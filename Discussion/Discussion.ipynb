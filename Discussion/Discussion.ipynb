{
 "cells": [
  {
   "cell_type": "markdown",
   "metadata": {},
   "source": [
    "- [Forward Problem](#Forward-Problem)\n",
    "    - [Verify Assumption 1](#Verify-Assumption-1)\n",
    "    - [Verify Lemma 1](#Verify-Lemma-1)\n",
    "    - [Verify Theorem 3.1](#Verify-Theorem-3.1)\n",
    "- [Inverse Problem](#Inverse-Problem)\n",
    "    - [Verify Assumption 2](#Verify-Assumption-2)\n",
    "    - [Verify Theorem 4.2](#Verify-Theorem-4.2)"
   ]
  },
  {
   "cell_type": "code",
   "execution_count": 1,
   "metadata": {
    "ExecuteTime": {
     "end_time": "2019-12-18T02:01:31.453152Z",
     "start_time": "2019-12-18T02:01:31.025891Z"
    }
   },
   "outputs": [],
   "source": [
    "import numpy as np\n",
    "import numpy.polynomial.legendre as leg\n",
    "from scipy.stats import norm\n",
    "from scipy.stats import uniform\n",
    "from scipy.integrate import odeint\n",
    "from scipy.stats import gaussian_kde as kde\n",
    "from ipywidgets import interact, interactive, fixed, interact_manual\n",
    "import ipywidgets as widgets\n",
    "\n",
    "from matplotlib import pyplot as plt\n",
    "%matplotlib inline"
   ]
  },
  {
   "cell_type": "code",
   "execution_count": 2,
   "metadata": {},
   "outputs": [],
   "source": [
    "####### Plot Formatting ######\n",
    "plt.rc('lines', linewidth = 2)\n",
    "plt.rc('xtick', labelsize = 14)\n",
    "plt.rc('ytick', labelsize = 14)\n",
    "plt.rc('legend',fontsize=14)\n",
    "plt.rcParams[\"font.family\"] = \"serif\"\n",
    "plt.rcParams['axes.labelsize'] = 20\n",
    "plt.rcParams['axes.titlesize'] = 16\n",
    "plt.rcParams['lines.markersize'] = 8\n",
    "plt.rcParams['figure.figsize'] = (8.0, 6.0)"
   ]
  },
  {
   "cell_type": "markdown",
   "metadata": {},
   "source": [
    "## Example from Xiu2002\n",
    "\n",
    "$$ \\frac{dy(t)}{dt} = -\\lambda y, \\ \\  y(0)=1 $$\n",
    "$$ y(t) = e^{-\\lambda t} $$\n",
    "$$QoI = y(0.5)$$\n",
    "\n",
    "$\\lambda\\sim U[-1,1]$, $t\\in[0,1]$\n",
    "\n",
    "$\\Lambda = [-1,1]$, $\\mathcal{D}=[e^{-1},e]$"
   ]
  },
  {
   "cell_type": "code",
   "execution_count": 3,
   "metadata": {
    "ExecuteTime": {
     "end_time": "2019-12-18T02:01:36.017357Z",
     "start_time": "2019-12-18T02:01:36.002150Z"
    }
   },
   "outputs": [],
   "source": [
    "def Phi(n):\n",
    "    '''Define L_n'''\n",
    "    coeffs = [0]*(n+1)\n",
    "    coeffs[n] = 1\n",
    "    return coeffs\n",
    "\n",
    "def inner2_leg(n):       \n",
    "    return 2/(2*n+1)\n",
    "\n",
    "def product3_leg(i,j,l):\n",
    "    #compute \\Phi_i*\\Phi_j*\\Phi_l\n",
    "    return lambda x: leg.legval(x, leg.legmul(leg.legmul(Phi(i),Phi(j)),Phi(l))) \n",
    "\n",
    "def inner3_leg(i,j,l):\n",
    "    '''\n",
    "    compute <\\Phi_i\\Phi_j\\Phi_l>    \n",
    "    Set up Gauss-Legendra quadrature\n",
    "    '''\n",
    "\n",
    "    x, w=leg.leggauss(20) \n",
    "    inner=sum([product3_leg(i,j,l)(x[idx]) * w[idx] for idx in range(20)])         \n",
    "    \n",
    "    return inner  "
   ]
  },
  {
   "cell_type": "code",
   "execution_count": 4,
   "metadata": {
    "ExecuteTime": {
     "end_time": "2019-12-18T02:01:38.228702Z",
     "start_time": "2019-12-18T02:01:38.216828Z"
    }
   },
   "outputs": [],
   "source": [
    "def ode_system_leg(y, t, P):   \n",
    "    '''P indicates highest order of Polynomial we use'''\n",
    "    dydt = np.zeros(P+1) \n",
    "    for l in range(len(dydt)):\n",
    "        dydt[l] = -(sum(sum(inner3_leg(i,j,l)*ki_leg[i]*y[j] for j in range(P+1)) for i in range(P+1)))/inner2_leg(l)\n",
    "    return dydt"
   ]
  },
  {
   "cell_type": "code",
   "execution_count": 5,
   "metadata": {
    "ExecuteTime": {
     "end_time": "2019-12-18T02:03:46.682050Z",
     "start_time": "2019-12-18T02:01:40.567073Z"
    }
   },
   "outputs": [],
   "source": [
    "P=5\n",
    "ki_leg = [0,1]+[0]*(P-1)\n",
    "sol_leg = odeint(ode_system_leg, [1.0]+[0.0]*P, np.linspace(0,1,101), args=(P,)) "
   ]
  },
  {
   "cell_type": "code",
   "execution_count": 6,
   "metadata": {
    "ExecuteTime": {
     "end_time": "2019-12-18T02:03:46.705889Z",
     "start_time": "2019-12-18T02:03:46.700220Z"
    }
   },
   "outputs": [],
   "source": [
    "def a(i):\n",
    "    return sol_leg[:,i][50]\n",
    "coef = np.array([a(0), a(1), a(2), a(3), a(4), a(5)])   #fixed\n",
    "\n",
    "def Q(i,x):\n",
    "    return leg.legval(x,coef[:(i+1)])\n",
    "\n",
    "def Qexact(x):\n",
    "    return np.exp(-x*0.5)"
   ]
  },
  {
   "cell_type": "code",
   "execution_count": 7,
   "metadata": {
    "ExecuteTime": {
     "end_time": "2019-12-18T02:03:47.099409Z",
     "start_time": "2019-12-18T02:03:46.720350Z"
    }
   },
   "outputs": [
    {
     "data": {
      "text/plain": [
       "<Figure size 576x432 with 0 Axes>"
      ]
     },
     "metadata": {},
     "output_type": "display_data"
    },
    {
     "data": {
      "application/vnd.jupyter.widget-view+json": {
       "model_id": "b328aec61bc744f99b378a5b02ccf237",
       "version_major": 2,
       "version_minor": 0
      },
      "text/plain": [
       "interactive(children=(IntSlider(value=1, description='n', max=5, min=1), Output()), _dom_classes=('widget-inte…"
      ]
     },
     "metadata": {},
     "output_type": "display_data"
    },
    {
     "data": {
      "text/plain": [
       "<function __main__.plot_Qn(n)>"
      ]
     },
     "execution_count": 7,
     "metadata": {},
     "output_type": "execute_result"
    }
   ],
   "source": [
    "#### Use plot to show the difference between the exact and approximate map #####\n",
    "fig = plt.figure()\n",
    "\n",
    "def plot_Qn(n):\n",
    "    fig.clear()\n",
    "    x = np.linspace(-3,3,100)\n",
    "    y = Qexact(x)\n",
    "    yn = Q(n, x)\n",
    "    plt.plot(x,y,linestyle='-.',linewidth=4,label=\"$Q(\\lambda)$\")\n",
    "    plt.plot(x,yn,label='Q_'+str(n)+'$(\\lambda)$')\n",
    "    plt.xlabel('$\\Lambda$')\n",
    "    plt.legend();\n",
    "    \n",
    "interact(plot_Qn, \n",
    "         n = widgets.IntSlider(value=1,min=1,max=5,step=1))  "
   ]
  },
  {
   "cell_type": "markdown",
   "metadata": {},
   "source": [
    "## Forward Problem"
   ]
  },
  {
   "cell_type": "markdown",
   "metadata": {},
   "source": [
    "$\\lambda\\sim U([-1,1])$, QOI is the value at $t=0.5$ ($y(0.5)$). $Q_n$ defines the Polynomial Chaos expansion with degree $n$.\n",
    "\n",
    "$$\n",
    "Q(\\lambda)=y(0.5)=\\sum\\limits_{i=0}^{\\infty} y_i(0.5)\\Phi_i\n",
    "$$\n",
    "$$\n",
    "Q_n(\\lambda)=\\sum\\limits_{i=0}^n y_i(0.5)\\Phi_i\n",
    "$$\n",
    "\n",
    "Verify Result of Lemma 2:\n",
    "\n",
    "$Q_n(\\lambda)\\to Q(\\lambda)$ in $L^p(\\Lambda)$, if Assumptions 1 holds and $D_c\\subset\\mathcal{D}$ being compact, then \n",
    "\\begin{equation}\n",
    "\t\\pi_{\\mathcal{D}}^{Q_n}(q) \\to \\pi_{\\mathcal{D}}^{Q}(q) \\text{ almost in} {L^r(D_c)}   \n",
    "\\end{equation}\n",
    "\n",
    "Verify Result of Theorem 3.1:\n",
    "\n",
    "$Q_n(\\lambda)\\to Q(\\lambda)$ in $L^p(\\Lambda)$, if Assumptions 1 holds, $\\{\\pi_{\\mathcal{D}}^{Q_n}\\}$ are uniformly integrable in $L^p(\\mathcal{D})$, $\\mathcal{D}$ is compact, then \n",
    "\\begin{equation}\n",
    "        \\pi_{\\mathcal{D}}^{Q_n}(Q_n(\\lambda)) \\to \\pi_{\\mathcal{D}}^{Q}(Q(\\lambda)) \\text{ in } L^p(\\Lambda) \n",
    "\\end{equation}"
   ]
  },
  {
   "cell_type": "markdown",
   "metadata": {},
   "source": [
    "### Verify Assumption 1"
   ]
  },
  {
   "cell_type": "code",
   "execution_count": 8,
   "metadata": {
    "ExecuteTime": {
     "end_time": "2019-12-18T02:03:47.934322Z",
     "start_time": "2019-12-18T02:03:47.527377Z"
    }
   },
   "outputs": [
    {
     "data": {
      "text/plain": [
       "<Figure size 576x432 with 0 Axes>"
      ]
     },
     "metadata": {},
     "output_type": "display_data"
    },
    {
     "data": {
      "application/vnd.jupyter.widget-view+json": {
       "model_id": "4f9227d0dc6242c087fd2265d86ded20",
       "version_major": 2,
       "version_minor": 0
      },
      "text/plain": [
       "interactive(children=(IntSlider(value=1, description='n', max=5, min=1), IntSlider(value=1000, description='J'…"
      ]
     },
     "metadata": {},
     "output_type": "display_data"
    },
    {
     "data": {
      "text/plain": [
       "<function __main__.plot_pushforward(n, J)>"
      ]
     },
     "execution_count": 8,
     "metadata": {},
     "output_type": "execute_result"
    }
   ],
   "source": [
    "#Verify Assumption 1\n",
    "\n",
    "fig=plt.figure()\n",
    "\n",
    "def plot_pushforward(n,J):\n",
    "    fig.clear()\n",
    "    np.random.seed(123456)\n",
    "    initial_sample = np.random.uniform(-1,1,size = J)\n",
    "    \n",
    "    pfprior_sample = Qexact(initial_sample)\n",
    "    pfprior_dens = kde(pfprior_sample)\n",
    "    \n",
    "    pfprior_sample_n = Q(n,initial_sample)\n",
    "    pfprior_dens_n = kde(pfprior_sample_n)\n",
    "    \n",
    "    fig.clear()\n",
    "    x = np.linspace(-1,3,1000)\n",
    "    y = pfprior_dens(x)\n",
    "    yn = pfprior_dens_n(x)\n",
    "    plt.plot(x,y,color='r', linestyle='-.', linewidth=4, label=\"$\\pi_{\\mathcal{D}}^Q$\")\n",
    "    plt.plot(x,yn,linewidth=2,label=\"$\\pi_{\\mathcal{D}}^{Q_{n}}$\")\n",
    "    plt.title('Lipschitz const. = %4.2f and Bound = %2.2f' %(np.max(np.abs(np.gradient(pfprior_dens_n(x), x))),\n",
    "                                                                             np.max(pfprior_dens_n(x))))\n",
    "    plt.xlabel(\"$\\mathcal{D}$\")\n",
    "    plt.legend()\n",
    "        \n",
    "interact(plot_pushforward, \n",
    "         n = widgets.IntSlider(value=1,min=1,max=5,step=1),\n",
    "         J = widgets.IntSlider(value=int(1E3),min=int(1E3),max=int(1E5),step=int(1E3)))"
   ]
  },
  {
   "cell_type": "code",
   "execution_count": 9,
   "metadata": {
    "ExecuteTime": {
     "end_time": "2019-12-18T02:03:47.954008Z",
     "start_time": "2019-12-18T02:03:47.948261Z"
    }
   },
   "outputs": [],
   "source": [
    "def assumption1(n,J):\n",
    "    np.random.seed(123456)\n",
    "    initial_sample = np.random.uniform(-1,1,size = J)\n",
    "    \n",
    "    pfprior_sample_n = Q(n,initial_sample)\n",
    "    pfprior_dens_n = kde(pfprior_sample_n)\n",
    "\n",
    "    x = np.linspace(-1,3,1000)\n",
    "    \n",
    "    return np.round(np.max(np.abs(np.gradient(pfprior_dens_n(x), x))), 2), np.round(np.max(pfprior_dens_n(x)),2)"
   ]
  },
  {
   "cell_type": "code",
   "execution_count": 10,
   "metadata": {
    "ExecuteTime": {
     "end_time": "2019-12-18T02:04:44.806950Z",
     "start_time": "2019-12-18T02:03:47.968335Z"
    }
   },
   "outputs": [],
   "source": [
    "size_J = [int(1E3), int(1E4), int(1E5)]\n",
    "degree_n = [1, 2, 3, 4, 5]\n",
    "\n",
    "Bound_matrix, Lip_Bound_matrix = np.zeros((3,5)), np.zeros((3,5))\n",
    "\n",
    "for i in range(3):\n",
    "    for j in range(5):\n",
    "        n, J = degree_n[j], size_J[i]\n",
    "        Lip_Bound_matrix[i,j] = assumption1(n, J)[0]\n",
    "        Bound_matrix[i,j] = assumption1(n, J)[1]"
   ]
  },
  {
   "cell_type": "code",
   "execution_count": 11,
   "metadata": {
    "ExecuteTime": {
     "end_time": "2019-12-18T02:04:44.806950Z",
     "start_time": "2019-12-18T02:03:47.968335Z"
    }
   },
   "outputs": [
    {
     "name": "stdout",
     "output_type": "stream",
     "text": [
      "Bound under certain n and J values\n",
      "[[1.06 1.28 1.24 1.24 1.24]\n",
      " [1.03 1.49 1.42 1.42 1.42]\n",
      " [1.   1.61 1.49 1.5  1.5 ]]\n",
      "Lipschitz bound under certain n and J values\n",
      "[[ 5.58  8.18  7.73  7.76  7.76]\n",
      " [ 8.4  14.18 12.97 13.05 13.05]\n",
      " [13.45 23.43 21.   21.22 21.21]]\n"
     ]
    }
   ],
   "source": [
    "print('Bound under certain n and J values')\n",
    "print(Bound_matrix)\n",
    "print('Lipschitz bound under certain n and J values')\n",
    "print(Lip_Bound_matrix)"
   ]
  },
  {
   "cell_type": "markdown",
   "metadata": {},
   "source": [
    "### Verify Lemma 1\n",
    "**Print out Monte Carlo Approximation of $\t\\|\\pi_{\\mathcal{D}}^Q(q)-\\pi_{\\mathcal{D}}^{Q_n}(q)\\|_{L^r(\\mathcal{D_c})} $ where $r>0$ and $D_c=[0,2]$**"
   ]
  },
  {
   "cell_type": "code",
   "execution_count": 12,
   "metadata": {
    "ExecuteTime": {
     "end_time": "2019-12-18T02:04:44.829838Z",
     "start_time": "2019-12-18T02:04:44.823548Z"
    }
   },
   "outputs": [],
   "source": [
    "#Build $\\pi_D^Q$ and $\\pi_D^{Q,n}$, use 10,000 samples\n",
    "N_kde = int(1E4)\n",
    "N_mc = int(1E4)\n",
    "\n",
    "np.random.seed(123456)\n",
    "initial_sample = np.random.uniform(-1,1,size = N_kde)\n",
    "pfprior_sample = Qexact(initial_sample)\n",
    "pfprior_dens = kde(pfprior_sample)\n",
    "\n",
    "def pfprior_dens_n(n,x):\n",
    "    pfprior_sample_n = Q(n,initial_sample)\n",
    "    pdf = kde(pfprior_sample_n)\n",
    "    return pdf(x)"
   ]
  },
  {
   "cell_type": "code",
   "execution_count": 29,
   "metadata": {
    "ExecuteTime": {
     "end_time": "2019-12-18T02:06:42.786058Z",
     "start_time": "2019-12-18T02:04:44.845545Z"
    }
   },
   "outputs": [],
   "source": [
    "error_r_D = np.zeros((5,5))\n",
    "np.random.seed(123456)            \n",
    "qsample = np.random.uniform(0,2,N_mc)\n",
    "\n",
    "for i in range(5):\n",
    "    for j in range(5):\n",
    "        error_r_D[i,j] = (np.mean((np.abs(pfprior_dens(qsample) - pfprior_dens_n(j+1,qsample)))**(i+1)))**(1/(i+1))"
   ]
  },
  {
   "cell_type": "code",
   "execution_count": 30,
   "metadata": {
    "ExecuteTime": {
     "end_time": "2019-12-18T02:06:42.786058Z",
     "start_time": "2019-12-18T02:04:44.845545Z"
    }
   },
   "outputs": [
    {
     "name": "stdout",
     "output_type": "stream",
     "text": [
      "L^r error on data space for Forward Problem\n",
      "\n",
      "[[1.32652095e-01 1.33105123e-02 8.99590253e-04 4.58108047e-05 2.00214185e-06]\n",
      " [1.89678459e-01 2.00084776e-02 1.35190729e-03 6.89170437e-05 2.96314294e-06]\n",
      " [2.25980916e-01 2.53023979e-02 1.67688288e-03 8.48124442e-05 3.56973156e-06]\n",
      " [2.53082253e-01 3.00427983e-02 1.95100002e-03 9.73267748e-05 4.02885743e-06]\n",
      " [2.74544312e-01 3.42042559e-02 2.18996780e-03 1.07583945e-04 4.40919250e-06]]\n"
     ]
    }
   ],
   "source": [
    "np.set_printoptions(linewidth=110)  \n",
    "print('L^r error on data space for Forward Problem',end='\\n\\n')\n",
    "print(error_r_D)        "
   ]
  },
  {
   "cell_type": "code",
   "execution_count": 32,
   "metadata": {
    "ExecuteTime": {
     "end_time": "2019-12-18T02:06:43.285157Z",
     "start_time": "2019-12-18T02:06:42.804034Z"
    }
   },
   "outputs": [
    {
     "data": {
      "image/png": "[encoded data removed]",
      "text/plain": [
       "<Figure size 576x432 with 1 Axes>"
      ]
     },
     "metadata": {
      "needs_background": "light"
     },
     "output_type": "display_data"
    }
   ],
   "source": [
    "fig = plt.figure()\n",
    "plt.xlim([0,6])\n",
    "marker = ['-D', '-o', '-v', '-s', '-.']\n",
    "for i in range(5):\n",
    "    plt.semilogy([1,2,3,4,5],error_r_D[i,:],marker[i],label='r = ' + np.str(i+1))    \n",
    "plt.xlabel('Order of PCE (n)')\n",
    "plt.ylabel('$L^r$'+' Error in Push-Forward on '+'$\\mathcal{D}$')\n",
    "plt.legend();\n",
    "fig.savefig(\"forward_D.png\")"
   ]
  },
  {
   "cell_type": "markdown",
   "metadata": {},
   "source": [
    "### Verify Theorem 3.1\n",
    "**Print out Monte Carlo Approximation of $\t\\|\\pi_{\\mathcal{D}}^Q(Q(\\lambda))-\\pi_{\\mathcal{D}}^{Q_n}(Q_n(\\lambda))\\|_{L^2(\\Lambda)} $**"
   ]
  },
  {
   "cell_type": "code",
   "execution_count": 16,
   "metadata": {
    "ExecuteTime": {
     "end_time": "2019-12-18T02:07:07.038364Z",
     "start_time": "2019-12-18T02:06:43.309288Z"
    }
   },
   "outputs": [],
   "source": [
    "np.random.seed(123456)       \n",
    "lamsample = np.random.uniform(-1,1,size = N_mc)\n",
    "\n",
    "error_2 = np.zeros(5)\n",
    "for i in range(5):\n",
    "    error_2[i] = (np.mean((np.abs(pfprior_dens(Qexact(lamsample)) - pfprior_dens_n(i+1,Q(i+1,lamsample))))**2))**(1/2)     "
   ]
  },
  {
   "cell_type": "code",
   "execution_count": 17,
   "metadata": {},
   "outputs": [
    {
     "name": "stdout",
     "output_type": "stream",
     "text": [
      "L^2 error on parameter space for Forward Problem\n",
      "\n",
      "[2.42452472e-01 3.51921960e-02 2.34712105e-03 1.20430887e-04 4.89385277e-06]\n"
     ]
    }
   ],
   "source": [
    "np.set_printoptions(linewidth=110)   \n",
    "print('L^2 error on parameter space for Forward Problem',end='\\n\\n')\n",
    "print(error_2)"
   ]
  },
  {
   "cell_type": "code",
   "execution_count": 18,
   "metadata": {
    "ExecuteTime": {
     "end_time": "2019-12-18T02:07:07.472007Z",
     "start_time": "2019-12-18T02:07:07.057826Z"
    }
   },
   "outputs": [
    {
     "data": {
      "image/png": "[encoded data removed]",
      "text/plain": [
       "<Figure size 576x432 with 1 Axes>"
      ]
     },
     "metadata": {
      "needs_background": "light"
     },
     "output_type": "display_data"
    }
   ],
   "source": [
    "fig = plt.figure()\n",
    "plt.xlim([0,6])\n",
    "plt.semilogy([1,2,3,4,5],error_2,'-s')   \n",
    "plt.xlabel('Order of PCE (n)')\n",
    "plt.ylabel('$L^2$'+' Error in Push-Forward on '+'$\\Lambda$');\n",
    "fig.savefig(\"forward_Lam.png\")"
   ]
  },
  {
   "cell_type": "markdown",
   "metadata": {},
   "source": [
    "## Inverse Problem"
   ]
  },
  {
   "cell_type": "markdown",
   "metadata": {},
   "source": [
    "Initial guess is $\\lambda\\sim U([-1,1])$. \n",
    "\n",
    "Observation is $\\pi_{\\mathcal{D}}\\sim N(1,0.1^2)$"
   ]
  },
  {
   "cell_type": "markdown",
   "metadata": {},
   "source": [
    "Verify Result of Theorem 4.2:\n",
    "\n",
    "$Q_n(\\lambda)\\to Q(\\lambda)$ in $L^p(\\Lambda)$, $\\pi_{\\Lambda}^i\\in L^p(\\mathcal{D})$. If Assumptions 1, 2 hold, $\\{\\pi_{\\mathcal{D}}^{Q_n}\\}$ are uniformly integrable in $L^p(\\mathcal{D})$, then \n",
    "\\begin{equation}\n",
    "        \\pi_{\\Lambda}^{u,n}(\\lambda) \\to \\pi_{\\Lambda}^{u}(\\lambda) \\text{ in } L^p(\\Lambda) \n",
    "\\end{equation}"
   ]
  },
  {
   "cell_type": "code",
   "execution_count": 19,
   "metadata": {
    "ExecuteTime": {
     "end_time": "2019-12-18T02:07:07.492909Z",
     "start_time": "2019-12-18T02:07:07.489167Z"
    }
   },
   "outputs": [],
   "source": [
    "def pdf_obs(x):\n",
    "    return norm.pdf(x, loc=1, scale=0.1)"
   ]
  },
  {
   "cell_type": "code",
   "execution_count": 20,
   "metadata": {
    "ExecuteTime": {
     "end_time": "2019-12-18T02:07:07.996130Z",
     "start_time": "2019-12-18T02:07:07.509132Z"
    }
   },
   "outputs": [
    {
     "data": {
      "image/png": "[encoded data removed]",
      "text/plain": [
       "<Figure size 576x432 with 1 Axes>"
      ]
     },
     "metadata": {
      "needs_background": "light"
     },
     "output_type": "display_data"
    }
   ],
   "source": [
    "fig = plt.figure()\n",
    "xx = np.linspace(-1,3,1000)\n",
    "y = pdf_obs(xx)\n",
    "y_pf = pfprior_dens(xx)\n",
    "plt.plot(xx,y,label=\"$\\pi_{\\mathcal{D}}^{obs}$\")\n",
    "plt.plot(xx,y_pf, label=\"$\\pi_{\\mathcal{D}}^{Q(init)}$\")\n",
    "plt.xlabel(\"$\\mathcal{D}$\")\n",
    "plt.legend();"
   ]
  },
  {
   "cell_type": "markdown",
   "metadata": {},
   "source": [
    "### Verify Assumption 2"
   ]
  },
  {
   "cell_type": "code",
   "execution_count": 21,
   "metadata": {
    "ExecuteTime": {
     "end_time": "2019-12-18T02:07:21.408793Z",
     "start_time": "2019-12-18T02:07:08.041288Z"
    }
   },
   "outputs": [],
   "source": [
    "def Meanr(n):\n",
    "    pfprior_sample_n = Q(n,initial_sample)\n",
    "    if n==0:\n",
    "        r = pdf_obs(pfprior_sample)/pfprior_dens(pfprior_sample)\n",
    "    else:\n",
    "        r = pdf_obs(pfprior_sample_n)/pfprior_dens_n(n,pfprior_sample_n)\n",
    "    return np.mean(r)\n",
    " \n",
    "\n",
    "def pdf_update(n,x):\n",
    "    if n==0:\n",
    "        r = pdf_obs(pfprior_sample)/pfprior_dens(pfprior_sample)\n",
    "        pdf = kde(initial_sample,weights=r)\n",
    "    else:\n",
    "        pfprior_sample_n = Q(n,initial_sample)\n",
    "#         pfprior_dens_n = kde(pfprior_sample_n)\n",
    "        r = pdf_obs(pfprior_sample_n)/pfprior_dens_n(n,pfprior_sample_n)\n",
    "        pdf = kde(initial_sample,weights=r)\n",
    "    return pdf(x)\n",
    "\n",
    "Expect_r = np.zeros(6)\n",
    "for i in range(6):\n",
    "    Expect_r[i] = Meanr(i)"
   ]
  },
  {
   "cell_type": "code",
   "execution_count": 22,
   "metadata": {},
   "outputs": [
    {
     "name": "stdout",
     "output_type": "stream",
     "text": [
      "Expected ratio for verifying Assumption 2\n",
      "[0.99908545 0.9979389  0.99903931 0.9990585  0.99904968]\n"
     ]
    }
   ],
   "source": [
    "print('Expected ratio for verifying Assumption 2')\n",
    "print(Expect_r[1:])"
   ]
  },
  {
   "cell_type": "code",
   "execution_count": 23,
   "metadata": {
    "ExecuteTime": {
     "end_time": "2019-12-18T02:08:34.505023Z",
     "start_time": "2019-12-18T02:08:29.668356Z"
    }
   },
   "outputs": [
    {
     "data": {
      "text/plain": [
       "<Figure size 576x432 with 0 Axes>"
      ]
     },
     "metadata": {},
     "output_type": "display_data"
    },
    {
     "data": {
      "application/vnd.jupyter.widget-view+json": {
       "model_id": "df5d49f7c79d4213b8353f1dcec74725",
       "version_major": 2,
       "version_minor": 0
      },
      "text/plain": [
       "interactive(children=(IntSlider(value=1, description='n', max=5, min=1), Output()), _dom_classes=('widget-inte…"
      ]
     },
     "metadata": {},
     "output_type": "display_data"
    },
    {
     "data": {
      "text/plain": [
       "<function __main__.plot_update(n)>"
      ]
     },
     "execution_count": 23,
     "metadata": {},
     "output_type": "execute_result"
    }
   ],
   "source": [
    "#### Use plot to show the difference between the initial, updated, approximate updated #####\n",
    "fig=plt.figure()\n",
    "\n",
    "def plot_update(n):\n",
    "    fig.clear()\n",
    "    xx = np.linspace(-1.1,1.1,100)\n",
    "    plt.plot(xx, uniform.pdf(xx, loc=-1, scale=2), label=\"Initial Density\")\n",
    "    plt.plot(xx, pdf_update(0,xx), label=\"$\\pi_{\\Lambda}^u$\")\n",
    "    plt.plot(xx, pdf_update(n,xx), label=\"$\\pi_{\\Lambda}^{u,n}$, n=\"+str(n))\n",
    "    plt.legend()\n",
    "    plt.xlabel(\"$\\Lambda$\")\n",
    "    plt.title('$\\mathbb{E}(r) =$ %3.2f' %(Expect_r[n]));\n",
    "    \n",
    "interact(plot_update, \n",
    "         n = widgets.IntSlider(value=int(1),min=int(1),max=int(5),step=1))"
   ]
  },
  {
   "cell_type": "code",
   "execution_count": 24,
   "metadata": {
    "ExecuteTime": {
     "end_time": "2019-12-18T02:08:54.910248Z",
     "start_time": "2019-12-18T02:08:43.215757Z"
    }
   },
   "outputs": [
    {
     "data": {
      "image/png": "[encoded data removed]",
      "text/plain": [
       "<Figure size 576x432 with 1 Axes>"
      ]
     },
     "metadata": {
      "needs_background": "light"
     },
     "output_type": "display_data"
    }
   ],
   "source": [
    "#### Use plot to show the difference between the observed and the pushforward of the approximate updated pdf #####\n",
    "def update_pushforward(n,x):\n",
    "    pfprior_sample_n = Q(n,initial_sample)\n",
    "    r = pdf_obs(pfprior_sample_n)/pfprior_dens_n(n,pfprior_sample_n)\n",
    "    pdf = kde(pfprior_sample_n,weights=r)\n",
    "    return pdf(x)\n",
    "\n",
    "fig = plt.figure()\n",
    "xx = np.linspace(-1,3,100)\n",
    "y = pdf_obs(xx)\n",
    "plt.plot(xx,y,label=\"$\\pi_{\\mathcal{D}}^{obs}$\")\n",
    "for i in range(1,6,1):\n",
    "    y_pf = update_pushforward(i,xx)\n",
    "    plt.plot(xx,y_pf, label=\"n=\"+str(i))\n",
    "plt.xlabel(\"$\\mathcal{D}$\")\n",
    "plt.legend();"
   ]
  },
  {
   "cell_type": "markdown",
   "metadata": {},
   "source": [
    "### Verify Theorem 4.2\n",
    "\n",
    "Print out Monte Carlo Approximation of $\\|\\pi_{\\Lambda}^{u,n}(\\lambda)-\\pi_{\\Lambda}^u(\\lambda)\\|_{L^2(\\Lambda)} $ "
   ]
  },
  {
   "cell_type": "code",
   "execution_count": 25,
   "metadata": {
    "ExecuteTime": {
     "end_time": "2019-12-18T02:09:49.304167Z",
     "start_time": "2019-12-18T02:09:03.735891Z"
    }
   },
   "outputs": [],
   "source": [
    "np.random.seed(123456)     \n",
    "lamsample = np.random.uniform(-1,1,size = N_mc)\n",
    "\n",
    "error_update = np.zeros(5)\n",
    "for i in range(5):\n",
    "    error_update[i] = (np.mean((np.abs(pdf_update(0,lamsample) - pdf_update(i+1,lamsample)))**2))**(1/2)"
   ]
  },
  {
   "cell_type": "code",
   "execution_count": 26,
   "metadata": {
    "ExecuteTime": {
     "end_time": "2019-12-18T02:09:49.304167Z",
     "start_time": "2019-12-18T02:09:03.735891Z"
    }
   },
   "outputs": [
    {
     "name": "stdout",
     "output_type": "stream",
     "text": [
      "L^2 Error for Inverse Problem\n",
      "\n",
      "[2.55451741e-01 1.75918768e-02 1.53142778e-03 7.77912615e-05 3.51810288e-06]\n"
     ]
    }
   ],
   "source": [
    "np.set_printoptions(linewidth=110)\n",
    "print('L^2 Error for Inverse Problem',end='\\n\\n')\n",
    "print(error_update)      "
   ]
  },
  {
   "cell_type": "code",
   "execution_count": 28,
   "metadata": {
    "ExecuteTime": {
     "end_time": "2019-12-18T02:09:49.755619Z",
     "start_time": "2019-12-18T02:09:49.329098Z"
    }
   },
   "outputs": [
    {
     "data": {
      "image/png": "[encoded data removed]",
      "text/plain": [
       "<Figure size 576x432 with 1 Axes>"
      ]
     },
     "metadata": {
      "needs_background": "light"
     },
     "output_type": "display_data"
    }
   ],
   "source": [
    "fig = plt.figure()\n",
    "plt.xlim([0,6])\n",
    "plt.semilogy([1,2,3,4,5],error_update,'-s')   \n",
    "plt.xlabel('Order of PCE (n)')\n",
    "plt.ylabel('$L^2$'+' Error in Update');"
   ]
  },
  {
   "cell_type": "code",
   "execution_count": null,
   "metadata": {},
   "outputs": [],
   "source": []
  }
 ],
 "metadata": {
  "kernelspec": {
   "display_name": "Python 3",
   "language": "python",
   "name": "python3"
  },
  "language_info": {
   "codemirror_mode": {
    "name": "ipython",
    "version": 3
   },
   "file_extension": ".py",
   "mimetype": "text/x-python",
   "name": "python",
   "nbconvert_exporter": "python",
   "pygments_lexer": "ipython3",
   "version": "3.8.6"
  },
  "latex_envs": {
   "LaTeX_envs_menu_present": true,
   "autoclose": false,
   "autocomplete": true,
   "bibliofile": "biblio.bib",
   "cite_by": "apalike",
   "current_citInitial": 1,
   "eqLabelWithNumbers": true,
   "eqNumInitial": 1,
   "hotkeys": {
    "equation": "Ctrl-E",
    "itemize": "Ctrl-I"
   },
   "labels_anchors": false,
   "latex_user_defs": false,
   "report_style_numbering": false,
   "user_envs_cfg": false
  },
  "toc": {
   "base_numbering": 1,
   "nav_menu": {},
   "number_sections": true,
   "sideBar": true,
   "skip_h1_title": false,
   "title_cell": "Table of Contents",
   "title_sidebar": "Contents",
   "toc_cell": false,
   "toc_position": {},
   "toc_section_display": true,
   "toc_window_display": false
  },
  "varInspector": {
   "cols": {
    "lenName": 16,
    "lenType": 16,
    "lenVar": 40
   },
   "kernels_config": {
    "python": {
     "delete_cmd_postfix": "",
     "delete_cmd_prefix": "del ",
     "library": "var_list.py",
     "varRefreshCmd": "print(var_dic_list())"
    },
    "r": {
     "delete_cmd_postfix": ") ",
     "delete_cmd_prefix": "rm(",
     "library": "var_list.r",
     "varRefreshCmd": "cat(var_dic_list()) "
    }
   },
   "types_to_exclude": [
    "module",
    "function",
    "builtin_function_or_method",
    "instance",
    "_Feature"
   ],
   "window_display": false
  }
 },
 "nbformat": 4,
 "nbformat_minor": 4
}
