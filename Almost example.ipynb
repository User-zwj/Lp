{
 "cells": [
  {
   "cell_type": "markdown",
   "metadata": {},
   "source": [
    "############################################################\n",
    "### This file is used to generate Table 1-3, Fig 1 ###\n",
    "############################################################\n",
    "\n",
    "- [Verify Assumption 1](#Verify-Assumption-1)\n",
    "    - [Table 1](#Table-1)\n",
    "    - [Table 2](#Table-2)\n",
    "\n",
    "- [Verify Assumption 2](#Verify-Assumption-2)\n",
    "    - [Table 3](#Table-3)\n",
    "    - [Left plot in Figure 1](#Left-plot-in-Figure-1)\n",
    "    - [Middle plot in Figure 1](#Middle-plot-in-Figure-1)\n",
    "    - [Right plot in Figure 1](#Right-plot-in-Figure-1)"
   ]
  },
  {
   "cell_type": "code",
   "execution_count": 1,
   "metadata": {
    "ExecuteTime": {
     "end_time": "2021-07-01T08:29:49.428145Z",
     "start_time": "2021-07-01T08:29:46.964236Z"
    },
    "slideshow": {
     "slide_type": "skip"
    }
   },
   "outputs": [],
   "source": [
    "import os\n",
    "import numpy as np\n",
    "from scipy.stats import norm\n",
    "from scipy.stats import gaussian_kde as kde \n",
    "import ipywidgets as widgets\n",
    "from ipywidgets import interact, interactive, fixed, interact_manual\n",
    "import matplotlib.pyplot as plt\n",
    "%matplotlib inline"
   ]
  },
  {
   "cell_type": "code",
   "execution_count": 2,
   "metadata": {
    "ExecuteTime": {
     "end_time": "2021-07-01T08:29:49.440529Z",
     "start_time": "2021-07-01T08:29:49.431124Z"
    }
   },
   "outputs": [],
   "source": [
    "####### Plot Formatting ######\n",
    "plt.rc('lines', linewidth = 4)\n",
    "plt.rc('xtick', labelsize = 18)\n",
    "plt.rc('ytick', labelsize = 18)\n",
    "plt.rc('legend',fontsize=20)\n",
    "# plt.rcParams[\"font.family\"] = \"serif\"\n",
    "plt.rcParams['axes.labelsize'] = 20\n",
    "plt.rcParams['axes.titlesize'] = 28\n",
    "plt.rcParams['lines.markersize'] = 6\n",
    "plt.rcParams['figure.figsize'] = (7.0, 5.0)"
   ]
  },
  {
   "cell_type": "markdown",
   "metadata": {
    "slideshow": {
     "slide_type": "subslide"
    }
   },
   "source": [
    "An almost example\n",
    "\n",
    "* $\\Lambda=[-1,1]$.\n",
    "\n",
    "* $Q(\\lambda) = \\lambda^p$ for $p=5$.\n",
    "\n",
    "* $\\mathcal{D} = Q(\\Lambda) = [-1,1]$.\n",
    "\n",
    "___\n",
    "\n",
    "* $\\pi_{\\Lambda}^{init} \\sim U([-1,1])$\n",
    "\n",
    "* $\\pi_{\\mathcal{D}}^{obs} \\sim N(0.25,0.1^2)$\n",
    "\n",
    "* $\\pi_{\\mathcal{D}}^{Q(init)}$ "
   ]
  },
  {
   "cell_type": "code",
   "execution_count": 3,
   "metadata": {
    "ExecuteTime": {
     "end_time": "2021-07-01T08:29:49.461431Z",
     "start_time": "2021-07-01T08:29:49.449985Z"
    },
    "slideshow": {
     "slide_type": "skip"
    }
   },
   "outputs": [],
   "source": [
    "def QoI(lam,p): \n",
    "    '''Defing a QoI mapping function'''\n",
    "    q = lam**p\n",
    "    return q\n",
    "\n",
    "def QoI_approx(lam,p,n):\n",
    "    '''Definie a QoI approximation with n+2 knots for piecewise linear spline'''\n",
    "    lam_knots = np.linspace(-1,1,n+2)\n",
    "    q_knots = QoI(lam_knots,p)\n",
    "    q = np.interp(lam, lam_knots, q_knots)\n",
    "    return q"
   ]
  },
  {
   "cell_type": "code",
   "execution_count": 4,
   "metadata": {
    "ExecuteTime": {
     "end_time": "2021-07-01T08:29:49.511564Z",
     "start_time": "2021-07-01T08:29:49.467283Z"
    },
    "scrolled": true,
    "slideshow": {
     "slide_type": "skip"
    }
   },
   "outputs": [],
   "source": [
    "# number of samples from init and observed mean (mu) and std (sigma)\n",
    "N, mus, sigma = int(1E5), [0.5,0.25,1], 0.1 \n",
    "lam = np.random.uniform(low=-1,high=1,size=N) # sample set of the init\n",
    "\n",
    "qvals_nonlinear = QoI(lam,5) # Evaluate lam^5 samples\n",
    "\n",
    "# Estimate the push-forward density for the QoI\n",
    "q_nonlinear_kde = kde(qvals_nonlinear)"
   ]
  },
  {
   "cell_type": "markdown",
   "metadata": {},
   "source": [
    "# Verify Assumption 1"
   ]
  },
  {
   "cell_type": "code",
   "execution_count": 5,
   "metadata": {
    "ExecuteTime": {
     "end_time": "2021-07-01T08:29:50.217041Z",
     "start_time": "2021-07-01T08:29:49.520392Z"
    }
   },
   "outputs": [
    {
     "data": {
      "image/png": "[encoded data removed]",
      "text/plain": [
       "<Figure size 504x360 with 1 Axes>"
      ]
     },
     "metadata": {
      "needs_background": "light"
     },
     "output_type": "display_data"
    }
   ],
   "source": [
    "#### Use plot to show approximate pushforward #####\n",
    "fig = plt.figure()\n",
    "J = int(1E3)\n",
    "qplot = np.linspace(-1,1, num=100)\n",
    "\n",
    "lam = np.random.uniform(low=-1,high=1,size=J) # sample set of the init\n",
    "\n",
    "# Evaluate the QoI map on this init sample set\n",
    "#qvals_nonlinear = QoI(lam,5) # Evaluate lam^5 samples\n",
    "for n in [1,2,4,8,16]:\n",
    "    qvals_approx_nonlinear = QoI_approx(lam,5,n) # Evaluate lam^5 samples\n",
    "    # Estimate the push-forward density for the QoI\n",
    "    q_nonlinear_kde1 = kde( qvals_approx_nonlinear )\n",
    "    pf_init_approx_plot = plt.plot(qplot,q_nonlinear_kde1(qplot),'--', linewidth=4, label=\"$n=$\" + str(n))\n",
    "\n",
    "plt.title('J = %1.0E' %(J)) \n",
    "plt.ylim([0,6.6])\n",
    "plt.legend();\n",
    "# fig.savefig(\"images/concept_example_pf_approxes_J_1E3\")"
   ]
  },
  {
   "cell_type": "code",
   "execution_count": 6,
   "metadata": {
    "ExecuteTime": {
     "end_time": "2021-07-01T08:29:50.845307Z",
     "start_time": "2021-07-01T08:29:50.222039Z"
    },
    "scrolled": false
   },
   "outputs": [
    {
     "data": {
      "text/plain": [
       "<Figure size 504x360 with 0 Axes>"
      ]
     },
     "metadata": {},
     "output_type": "display_data"
    },
    {
     "data": {
      "application/vnd.jupyter.widget-view+json": {
       "model_id": "d36fa1ca08fd481aa36fe56dd096923a",
       "version_major": 2,
       "version_minor": 0
      },
      "text/plain": [
       "interactive(children=(IntSlider(value=1, description='n'), IntSlider(value=1000, description='J', max=100000, …"
      ]
     },
     "metadata": {},
     "output_type": "display_data"
    },
    {
     "data": {
      "text/plain": [
       "<function __main__.plot_func(n, J)>"
      ]
     },
     "execution_count": 6,
     "metadata": {},
     "output_type": "execute_result"
    }
   ],
   "source": [
    "# Failing Lipschitz as a function of approximate map\n",
    "\n",
    "fig = plt.figure()\n",
    "def plot_func(n,J):\n",
    "    fig.clear()\n",
    "    qplot = np.linspace(-1,1, num=100)\n",
    "    #observed_plot = plt.plot(qplot,norm.pdf(qplot, loc=mu, scale=sigma), 'r-', linewidth=4, label=\"$\\pi_\\mathcal{D}^{obs}$\")\n",
    "    pf_init_plot = plt.plot(qplot,1/10*np.abs(qplot)**(-4/5),'b-', linewidth=4, label=\"$\\pi_\\mathcal{D}^{Q(init)}$\")\n",
    "\n",
    "    np.random.seed(123456)\n",
    "    lam = np.random.uniform(low=-1,high=1,size=J) # sample set of the init\n",
    "    # Evaluate the QoI map on this init sample set\n",
    "    qvals_approx_nonlinear = QoI_approx(lam,5,n) # Evaluate lam^5 samples\n",
    "\n",
    "    # Estimate the push-forward density for the QoI\n",
    "    q_nonlinear_kde = kde( qvals_approx_nonlinear )\n",
    "    \n",
    "    pf_init_approx_plot = plt.plot(qplot,q_nonlinear_kde(qplot),'b--', linewidth=4, label=\"$\\pi_{\\mathcal{D},N}^{Q(init)}$\")\n",
    "    \n",
    "    plt.title('Lipschitz const. = %4.2f and Bound = %2.2f' %(np.max(np.abs(np.gradient(q_nonlinear_kde(qplot), qplot))),\n",
    "                                                                             np.max(q_nonlinear_kde(qplot))));\n",
    "interact(plot_func, \n",
    "         n = widgets.IntSlider(value=int(1),min=int(0),max=int(1E2),step=1),\n",
    "         J = widgets.IntSlider(value=int(1E3), min=int(1E3), max=int(1E5), step=int(1E3)))"
   ]
  },
  {
   "cell_type": "code",
   "execution_count": 7,
   "metadata": {
    "ExecuteTime": {
     "end_time": "2021-07-01T08:29:55.504769Z",
     "start_time": "2021-07-01T08:29:50.850324Z"
    }
   },
   "outputs": [],
   "source": [
    "##### Generate data in Table 1 and 2 #####\n",
    "def assumption1(n, J):\n",
    "    np.random.seed(123456)\n",
    "    x = np.linspace(-1, 1, 100)\n",
    "    lam = np.random.uniform(low=-1, high=1, size=J)  # sample set of the init\n",
    "    qvals_approx_nonlinear = QoI_approx(lam, 5, n)  # Evaluate lam^5 samples\n",
    "    q_nonlinear_kde = kde(qvals_approx_nonlinear)\n",
    "    return np.round(np.max(np.abs(np.gradient(q_nonlinear_kde(x), x))), 2), np.round(np.max(q_nonlinear_kde(x)), 2)\n",
    "\n",
    "\n",
    "size_J = [int(1E3), int(1E4), int(1E5)]\n",
    "degree_n = [1, 2, 4, 8, 16]\n",
    "Bound_matrix, Lip_Bound_matrix = np.zeros((3, 5)), np.zeros((3, 5))\n",
    "for i in range(3):\n",
    "    for j in range(5):\n",
    "        n, J = degree_n[j], size_J[i]\n",
    "        Lip_Bound_matrix[i, j] = assumption1(n, J)[0]\n",
    "        Bound_matrix[i, j] = assumption1(n, J)[1]"
   ]
  },
  {
   "cell_type": "markdown",
   "metadata": {},
   "source": [
    "## Table 1"
   ]
  },
  {
   "cell_type": "code",
   "execution_count": 8,
   "metadata": {
    "ExecuteTime": {
     "end_time": "2021-07-01T08:29:55.527800Z",
     "start_time": "2021-07-01T08:29:55.512715Z"
    }
   },
   "outputs": [
    {
     "name": "stdout",
     "output_type": "stream",
     "text": [
      "Table 1\n",
      "Bound under certain n and J values\n",
      "[[0.54 1.52 2.5  2.94 3.19]\n",
      " [0.53 2.09 3.42 4.1  4.43]\n",
      " [0.51 3.03 4.44 5.63 6.12]]\n"
     ]
    }
   ],
   "source": [
    "###########################################\n",
    "############## Table 1 ##################\n",
    "###########################################\n",
    "print('Table 1')        \n",
    "print('Bound under certain n and J values')\n",
    "print(Bound_matrix)"
   ]
  },
  {
   "cell_type": "markdown",
   "metadata": {},
   "source": [
    "## Table 2"
   ]
  },
  {
   "cell_type": "code",
   "execution_count": 9,
   "metadata": {
    "ExecuteTime": {
     "end_time": "2021-07-01T08:29:55.564947Z",
     "start_time": "2021-07-01T08:29:55.542566Z"
    }
   },
   "outputs": [
    {
     "name": "stdout",
     "output_type": "stream",
     "text": [
      "Table 2\n",
      "Lipschitz bound under certain n and J values\n",
      "[[ 1.41  6.08 13.68 17.98 20.81]\n",
      " [ 2.19 13.89 27.26 38.35 44.06]\n",
      " [ 3.48 33.14 46.45 75.08 89.42]]\n"
     ]
    }
   ],
   "source": [
    "###########################################\n",
    "############## Table 2 ##################\n",
    "###########################################\n",
    "print('Table 2')\n",
    "print('Lipschitz bound under certain n and J values')\n",
    "print(Lip_Bound_matrix)"
   ]
  },
  {
   "cell_type": "markdown",
   "metadata": {},
   "source": [
    "# Verify Assumption 2"
   ]
  },
  {
   "cell_type": "code",
   "execution_count": 10,
   "metadata": {
    "ExecuteTime": {
     "end_time": "2021-07-01T08:29:57.976814Z",
     "start_time": "2021-07-01T08:29:55.581698Z"
    }
   },
   "outputs": [
    {
     "data": {
      "text/plain": [
       "<Figure size 504x360 with 0 Axes>"
      ]
     },
     "metadata": {},
     "output_type": "display_data"
    },
    {
     "data": {
      "application/vnd.jupyter.widget-view+json": {
       "model_id": "68984d7546bb44149800a50336b70f2f",
       "version_major": 2,
       "version_minor": 0
      },
      "text/plain": [
       "interactive(children=(IntSlider(value=1, description='n'), IntSlider(value=10000, description='J', max=100000,…"
      ]
     },
     "metadata": {},
     "output_type": "display_data"
    },
    {
     "data": {
      "text/plain": [
       "<function __main__.plot_func(n, J, m)>"
      ]
     },
     "execution_count": 10,
     "metadata": {},
     "output_type": "execute_result"
    }
   ],
   "source": [
    "#### Use plot to show the difference between the observed and approximate pushforward #####\n",
    "#### m: case number; n: approximate map index; J: sample size ####\n",
    "fig = plt.figure()\n",
    "\n",
    "def plot_func(n, J, m):\n",
    "    fig.clear()\n",
    "    \n",
    "    qplot = np.linspace(-1,1, num=100)\n",
    "    observed_plot = plt.plot(qplot,norm.pdf(qplot, loc=mus[m], scale=sigma), 'r-', linewidth=4, label=\"$\\pi_\\mathcal{D}^{obs}$\")    \n",
    "\n",
    "    np.random.seed(123456)   \n",
    "    lam = np.random.uniform(low=-1,high=1,size=J) # sample set of the init\n",
    "    \n",
    "    # Evaluate the QoI map on this init sample set\n",
    "    qvals_approx_nonlinear = QoI_approx(lam,5,n) # Evaluate lam^5 samples\n",
    "    # Estimate the push-forward density for the QoI\n",
    "    q_nonlinear_kde = kde(qvals_approx_nonlinear)  \n",
    "    # Plot Aproximate push forward\n",
    "    pf_init_approx_plot = plt.plot(qplot,q_nonlinear_kde(qplot),'b--', linewidth=4, label=\"$\\pi_{\\mathcal{D}}^{Q_n(init)}$\")    \n",
    "    obs_vals_nonlinear = norm.pdf(qvals_approx_nonlinear, loc=mus[m], scale=sigma)\n",
    "    \n",
    "    # Compute r\n",
    "    r = np.divide(obs_vals_nonlinear,q_nonlinear_kde(qvals_approx_nonlinear))    \n",
    "    plt.title('$\\mathbb{E}(r) =$ %3.2f' %(np.mean(r)))    \n",
    "    plt.legend();\n",
    "    \n",
    "interact(plot_func, \n",
    "         n = widgets.IntSlider(value=int(1),min=int(0),max=int(1E2),step=1),\n",
    "         J = widgets.IntSlider(value=int(1E4), min=int(1E3), max=int(1E5), step=int(1E3)),\n",
    "         m = widgets.IntSlider(vlaue=int(0),min=int(0),max=int(2), step=1))"
   ]
  },
  {
   "cell_type": "code",
   "execution_count": 11,
   "metadata": {
    "ExecuteTime": {
     "end_time": "2021-07-01T08:30:23.805290Z",
     "start_time": "2021-07-01T08:29:57.982499Z"
    }
   },
   "outputs": [],
   "source": [
    "# The expected r value\n",
    "def Meanr(n, J, m):\n",
    "    '''\n",
    "    n: index of approximating mapping\n",
    "    J: sample size of sample generated from parameter space\n",
    "    m: index of mu\n",
    "    '''\n",
    "    np.random.seed(123456)\n",
    "    lam = np.random.uniform(low=-1, high=1, size=J)  # sample set of the init\n",
    "    qvals_approx_nonlinear = QoI_approx(lam, 5, n)  # Evaluate lam^5 samples\n",
    "    q_nonlinear_kde = kde(qvals_approx_nonlinear)\n",
    "    obs_vals_nonlinear = norm.pdf(qvals_approx_nonlinear, loc=mus[m], scale=sigma)\n",
    "    r = np.divide(obs_vals_nonlinear, q_nonlinear_kde(qvals_approx_nonlinear))\n",
    "    return np.round(np.mean(r), 2)\n",
    "\n",
    "\n",
    "meanr_matrix = np.zeros((3, 5))\n",
    "for i in range(3):\n",
    "    for j in range(5):\n",
    "        J = int(1E4)\n",
    "        meanr_matrix[i, j] = Meanr(degree_n[j], J, i)"
   ]
  },
  {
   "cell_type": "markdown",
   "metadata": {},
   "source": [
    "## Table 3"
   ]
  },
  {
   "cell_type": "code",
   "execution_count": 12,
   "metadata": {
    "ExecuteTime": {
     "end_time": "2021-07-01T08:30:23.815955Z",
     "start_time": "2021-07-01T08:30:23.808022Z"
    }
   },
   "outputs": [
    {
     "name": "stdout",
     "output_type": "stream",
     "text": [
      "Table 3\n",
      "Expected ratio for verifying Assumption 2\n",
      "[[1.   1.   1.   0.98 0.99]\n",
      " [0.99 0.88 0.85 0.92 0.92]\n",
      " [0.69 0.66 0.63 0.61 0.61]]\n"
     ]
    }
   ],
   "source": [
    "###########################################\n",
    "############## Table 3 ##################\n",
    "###########################################\n",
    "print('Table 3')\n",
    "print('Expected ratio for verifying Assumption 2')\n",
    "print(meanr_matrix)"
   ]
  },
  {
   "cell_type": "code",
   "execution_count": 13,
   "metadata": {
    "ExecuteTime": {
     "end_time": "2021-07-01T08:30:23.847026Z",
     "start_time": "2021-07-01T08:30:23.827250Z"
    }
   },
   "outputs": [],
   "source": [
    "#### To make it cleaner, create Directory \"images\" to store all the figures ####\n",
    "imagepath = os.path.join(os.getcwd(),\"images\")\n",
    "os.makedirs(imagepath,exist_ok=True)"
   ]
  },
  {
   "cell_type": "code",
   "execution_count": 14,
   "metadata": {
    "ExecuteTime": {
     "end_time": "2021-07-01T08:30:23.876759Z",
     "start_time": "2021-07-01T08:30:23.853134Z"
    }
   },
   "outputs": [
    {
     "data": {
      "text/plain": [
       "<Figure size 504x360 with 0 Axes>"
      ]
     },
     "metadata": {},
     "output_type": "display_data"
    }
   ],
   "source": [
    "fig = plt.figure()\n",
    "\n",
    "def plot_all(i):\n",
    "    fig.clear()\n",
    "    case = ['Case I', 'Case II', 'Case III']\n",
    "    qplot = np.linspace(-1, 1, num=100)\n",
    "    observed_plot = plt.plot(qplot, norm.pdf(\n",
    "        qplot, loc=mus[i], scale=sigma), 'r-.', label=\"$\\pi_\\mathcal{D}$\")\n",
    "    pf_init_plot = plt.plot(qplot, 1/10*np.abs(qplot)**(-4/5), 'b-',\n",
    "                             label=\"$\\pi_\\mathcal{D}^{Q}$\")\n",
    "    pf_init_plot = plt.plot(qplot, q_nonlinear_kde(qplot), 'b--',\n",
    "                             label=\"$\\pi_{\\mathcal{D},m}^{Q}$\")\n",
    "    plt.xlim([-1, 1])\n",
    "    plt.xlabel(\"$\\mathcal{D}$\")\n",
    "    plt.legend()\n",
    "    plt.title(case[i]);\n",
    "    loc = ['Left','Mid','Right']\n",
    "    if loc[i]:\n",
    "        filename = os.path.join(os.getcwd(), \"images\", \"Fig1(%s).png\"%(loc[i])) \n",
    "        plt.savefig(filename)"
   ]
  },
  {
   "cell_type": "markdown",
   "metadata": {},
   "source": [
    "## Left plot in Figure 1"
   ]
  },
  {
   "cell_type": "code",
   "execution_count": 15,
   "metadata": {
    "ExecuteTime": {
     "end_time": "2021-07-01T08:30:24.562573Z",
     "start_time": "2021-07-01T08:30:23.888493Z"
    }
   },
   "outputs": [
    {
     "data": {
      "image/png": "[encoded data removed]",
      "text/plain": [
       "<Figure size 504x360 with 1 Axes>"
      ]
     },
     "metadata": {
      "needs_background": "light"
     },
     "output_type": "display_data"
    }
   ],
   "source": [
    "###########################################\n",
    "####### The left plot of Fig 1 ##########\n",
    "###########################################\n",
    "plot_all(0)"
   ]
  },
  {
   "cell_type": "markdown",
   "metadata": {},
   "source": [
    "## Middle plot in Figure 1"
   ]
  },
  {
   "cell_type": "code",
   "execution_count": 16,
   "metadata": {
    "ExecuteTime": {
     "end_time": "2021-07-01T08:30:25.191828Z",
     "start_time": "2021-07-01T08:30:24.565331Z"
    }
   },
   "outputs": [
    {
     "data": {
      "image/png": "[encoded data removed]",
      "text/plain": [
       "<Figure size 504x360 with 1 Axes>"
      ]
     },
     "metadata": {
      "needs_background": "light"
     },
     "output_type": "display_data"
    }
   ],
   "source": [
    "#############################################\n",
    "####### The middle plot of Fig 1 ##########\n",
    "#############################################\n",
    "plot_all(1)"
   ]
  },
  {
   "cell_type": "markdown",
   "metadata": {},
   "source": [
    "## Right plot in Figure 1"
   ]
  },
  {
   "cell_type": "code",
   "execution_count": 17,
   "metadata": {
    "ExecuteTime": {
     "end_time": "2021-07-01T08:30:25.845807Z",
     "start_time": "2021-07-01T08:30:25.196022Z"
    }
   },
   "outputs": [
    {
     "data": {
      "image/png": "[encoded data removed]",
      "text/plain": [
       "<Figure size 504x360 with 1 Axes>"
      ]
     },
     "metadata": {
      "needs_background": "light"
     },
     "output_type": "display_data"
    }
   ],
   "source": [
    "############################################\n",
    "####### The right plot of Fig 1 ##########\n",
    "############################################\n",
    "plot_all(2)"
   ]
  },
  {
   "cell_type": "code",
   "execution_count": null,
   "metadata": {},
   "outputs": [],
   "source": []
  }
 ],
 "metadata": {
  "anaconda-cloud": {},
  "kernelspec": {
   "display_name": "Python 3",
   "language": "python",
   "name": "python3"
  },
  "language_info": {
   "codemirror_mode": {
    "name": "ipython",
    "version": 3
   },
   "file_extension": ".py",
   "mimetype": "text/x-python",
   "name": "python",
   "nbconvert_exporter": "python",
   "pygments_lexer": "ipython3",
   "version": "3.6.7"
  },
  "latex_envs": {
   "LaTeX_envs_menu_present": true,
   "autoclose": false,
   "autocomplete": true,
   "bibliofile": "biblio.bib",
   "cite_by": "apalike",
   "current_citInitial": 1,
   "eqLabelWithNumbers": true,
   "eqNumInitial": 1,
   "hotkeys": {
    "equation": "Ctrl-E",
    "itemize": "Ctrl-I"
   },
   "labels_anchors": false,
   "latex_user_defs": false,
   "report_style_numbering": false,
   "user_envs_cfg": false
  },
  "toc": {
   "base_numbering": 1,
   "nav_menu": {},
   "number_sections": true,
   "sideBar": false,
   "skip_h1_title": false,
   "title_cell": "Table of Contents",
   "title_sidebar": "Contents",
   "toc_cell": false,
   "toc_position": {
    "height": "482.913px",
    "left": "126px",
    "top": "174.923px",
    "width": "494px"
   },
   "toc_section_display": false,
   "toc_window_display": false
  },
  "varInspector": {
   "cols": {
    "lenName": 16,
    "lenType": 16,
    "lenVar": 40
   },
   "kernels_config": {
    "python": {
     "delete_cmd_postfix": "",
     "delete_cmd_prefix": "del ",
     "library": "var_list.py",
     "varRefreshCmd": "print(var_dic_list())"
    },
    "r": {
     "delete_cmd_postfix": ") ",
     "delete_cmd_prefix": "rm(",
     "library": "var_list.r",
     "varRefreshCmd": "cat(var_dic_list()) "
    }
   },
   "types_to_exclude": [
    "module",
    "function",
    "builtin_function_or_method",
    "instance",
    "_Feature"
   ],
   "window_display": false
  }
 },
 "nbformat": 4,
 "nbformat_minor": 2
}
