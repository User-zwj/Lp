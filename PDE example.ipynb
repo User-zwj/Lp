{
 "cells": [
  {
   "cell_type": "markdown",
   "metadata": {},
   "source": [
    "########################################################\n",
    "### This file is used to generate Table 7-8, Fig 4-5 ###\n",
    "########################################################\n",
    "\n",
    "- [Forward Problem](#Forward-Problem)\n",
    "    - [Verify Assumption 1](#Verify-Assumption-1)\n",
    "        - [Table 7](#Table-7)\n",
    "        - [Table 8](#Table-8)\n",
    "    - [Verify Lemma 1](#Verify-Lemma-1)\n",
    "        - [Left plot in Figure 4](#Left-plot-in-Figure-4)\n",
    "    - [Verify Theorem 3.1](#Verify-Theorem-3.1)\n",
    "        - [Right plot in Figure 4](#Right-plot-in-Figure-4)\n",
    "- [Inverse Problem](#Inverse-Problem)\n",
    "    - [Verify Assumption 2](#Verify-Assumption-2)\n",
    "    - [Verify Theorem 4.2](#Verify-Theorem-4.2)\n",
    "        - [Figure 5](#Figure-5)"
   ]
  },
  {
   "cell_type": "markdown",
   "metadata": {
    "ExecuteTime": {
     "end_time": "2019-11-22T16:56:19.339829Z",
     "start_time": "2019-11-22T16:56:19.335388Z"
    }
   },
   "source": [
    "<font color=red>**Note(Important!!!!!)** \n",
    "Since this file would require data from Data directory, you will need to generate the data files, there are two ways to generate the data.</font>\n",
    "\n",
    "- Way 1: run 'GenerateData.ipynb' or 'GenerateData.py' to get QoI values at quadrature points in order to get coefficients in PCE; and all the ratio evaluations\n",
    "- Way 2: run 'GenerateData_ParallelVersion.ipynb' and set multiple processors"
   ]
  },
  {
   "cell_type": "code",
   "execution_count": 1,
   "metadata": {
    "ExecuteTime": {
     "end_time": "2021-07-01T03:19:32.914969Z",
     "start_time": "2021-07-01T03:19:30.623582Z"
    }
   },
   "outputs": [],
   "source": [
    "import os\n",
    "import scipy.io as sio #for the i/o\n",
    "import numpy as np\n",
    "import numpy.polynomial.hermite_e as H \n",
    "from math import factorial\n",
    "from scipy.stats import norm\n",
    "from scipy.stats import gaussian_kde as kde\n",
    "from mpl_toolkits.mplot3d import Axes3D\n",
    "from matplotlib import pyplot as plt\n",
    "\n",
    "import ipywidgets as widgets\n",
    "from ipywidgets import interact, interactive, fixed, interact_manual\n",
    "from matplotlib import cm\n",
    "\n",
    "%matplotlib inline"
   ]
  },
  {
   "cell_type": "code",
   "execution_count": 2,
   "metadata": {
    "ExecuteTime": {
     "end_time": "2021-07-01T03:19:32.944373Z",
     "start_time": "2021-07-01T03:19:32.919054Z"
    }
   },
   "outputs": [],
   "source": [
    "####### Plot Formatting ######\n",
    "plt.rc('lines', linewidth = 1.5)\n",
    "plt.rc('xtick', labelsize = 14)\n",
    "plt.rc('ytick', labelsize = 14)\n",
    "plt.rc('legend',fontsize=14)\n",
    "# plt.rcParams[\"font.family\"] = \"serif\"\n",
    "plt.rcParams['axes.labelsize'] = 20\n",
    "plt.rcParams['axes.titlesize'] = 12\n",
    "plt.rcParams['lines.markersize'] = 6\n",
    "plt.rcParams['figure.figsize'] = (8.0, 6.0)"
   ]
  },
  {
   "cell_type": "markdown",
   "metadata": {},
   "source": [
    "Problem:\n",
    "\n",
    "\\begin{align*}\n",
    "- \\nabla\\cdot(A\\nabla u) &= (e^{\\lambda_1}\\lambda_1^2\\pi^2 + e^{\\lambda_2}\\lambda_2^2\\pi^2)u \\\\\n",
    "u &= 0 \\, \\text{ on } \\Gamma_0 \\,\\text{(   Left edge)}\\\\\n",
    "(A\\nabla u)\\cdot n &= -e^{\\lambda_2}\\lambda_2\\pi \\sin\\lambda_1\\pi x\\sin \\lambda_2\\pi y \\, \\text{ on } \\Gamma_1  \\, \\text{(   Top edge)}\\\\\n",
    "(A\\nabla u)\\cdot n &= e^{\\lambda_2}\\lambda_2\\pi \\sin\\lambda_1\\pi x\\sin \\lambda_2\\pi y \\, \\text{ on } \\Gamma_2  \\,\\text{(   Bottom edge)}\\\\\n",
    "(A\\nabla u)\\cdot n &= e^{\\lambda_1}\\lambda_1\\pi \\cos\\lambda_1\\pi x\\cos \\lambda_2\\pi y \\, \\text{ on } \\Gamma_3  \\,\\text{(   Right edge)}\\\\\n",
    "\\end{align*}\n",
    "\n",
    "where \n",
    "$$ A = \\begin{bmatrix} e^{\\lambda_1} & 0 \\\\ 0 & e^{\\lambda_2} \\end{bmatrix} $$\n",
    "and $\\Omega = [0,1]\\times [0,1]$.\n",
    "\n",
    "<font color = red>**Exact solution:**\n",
    "$$ u = \\sin \\lambda_1\\pi x \\cos \\lambda_2 \\pi y$$\n",
    "</font>\n",
    "\n",
    "QoI is:\n",
    " \n",
    "\\begin{align*}\n",
    "Q(\\lambda_1,\\lambda_2) &=  \\frac{1}{(b-a)(d-c)}\\int_{c}^{d} \\int_{a}^{b} u(x,y,\\lambda_1,\\lambda_2)\\, dx\\, dy \\\\\n",
    "&= \\frac{1}{(b-a)(d-c)} \\int_{a}^{b} \\sin \\lambda_1\\pi x \\, dx \\int_{c}^{d} \\cos \\lambda_2 \\pi y \\, dy\\\\\n",
    "&= \\frac{1}{(b-a)(d-c)} \\left( \\frac{\\cos \\lambda_1\\pi a - \\cos\\lambda_1\\pi b}{\\lambda_1\\pi}\\right) \\left( \\frac{\\sin \\lambda_2\\pi d - \\sin \\lambda_2\\pi c}{\\lambda_2\\pi}\\right) \\\\\n",
    "&= \\frac{(\\cos \\lambda_1\\pi a - \\cos\\lambda_1\\pi b)(\\sin \\lambda_2\\pi d - \\sin\\lambda_2\\pi c) }{(b-a)(d-c)\\lambda_1\\lambda_2\\pi^2} \n",
    "\\end{align*}\n"
   ]
  },
  {
   "cell_type": "markdown",
   "metadata": {},
   "source": [
    "### When standard normal\n",
    "</font >\n",
    "\n",
    "$$ \\Phi_{ij}(x,y) = \\Phi_i(x) \\Phi_j(y)$$\n",
    "\n",
    "$$ (\\Phi_{ij}, \\Phi_{kl}) = \\int_{-\\infty}^{\\infty} \\int_{-\\infty}^{\\infty} \\Phi_{ij}(x,y)\\Phi_{kl}(x,y) e^{-\\frac{x^2+y^2}{2}}\\, dx\\, dy = (\\sqrt{2\\pi})^2 i! j! \\delta_{ik}\\delta_{jl}$$\n",
    "\n",
    "\n",
    "$$ Q(\\lambda_1, \\lambda_2) = \\sum_{i,j=0}^{\\infty} q_{ij} \\Phi_{ij}(\\lambda_1,\\lambda_2)$$\n",
    "\n",
    "$$ q_{ij} = \\frac{1}{(\\Phi_{ij},\\Phi_{ij})} \\biggr(Q(\\lambda_1, \\lambda_2), \\  \\Phi_{ij}(\\lambda_1,\\lambda_2)\\biggr) = \\frac{1}{(\\sqrt{2\\pi})^2 i! j! } \\biggr(Q(\\lambda_1, \\lambda_2), \\  \\Phi_{ij}(\\lambda_1,\\lambda_2)\\biggr)$$\n",
    "\n",
    "**Gauss-Hermite Quadrature**\n",
    " \n",
    "\\begin{align*}\n",
    "\\biggr(Q(\\lambda_1, \\lambda_2), \\  \\Phi_{ij}(\\lambda_1,\\lambda_2)\\biggr) &= \\int_{-\\infty}^{\\infty}\\int_{-\\infty}^{\\infty} Q(\\lambda_1,\\lambda_2) \\Phi_i(\\lambda_1) e^{-\\frac{\\lambda_1^2}{2}} \\, d\\lambda_1 \\Phi_j(\\lambda_2) e^{-\\frac{\\lambda_2^2}{2}} \\, d\\lambda_2\\\\\n",
    "&= \\int_{-\\infty}^{\\infty} \\biggr( \\sum_{k=1}^n w_k Q(\\lambda_1^{(k)}, \\lambda_2)\\Phi_i(\\lambda_1^{(k)}) \\biggr) \\Phi_j(\\lambda_2) e^{-\\frac{\\lambda_2^2}{2}} \\, d\\lambda_2\\\\ \n",
    "&= \\sum_{l=1}^n  w_l \\biggr( \\sum_{k=1}^n w_k Q(\\lambda_1^{(k)}, \\lambda_2^{(l)})\\Phi_i(\\lambda_1^{(k)}) \\biggr) \\Phi_j(\\lambda_2^{(l)})\n",
    "\\end{align*}"
   ]
  },
  {
   "cell_type": "markdown",
   "metadata": {},
   "source": [
    "### When generalized normal\n",
    "\n",
    "**Quadrature Rule**\n",
    "\n",
    "<font color = red>\n",
    "If \n",
    "$$ \\int_{-\\infty}^{\\infty} f(x) e^{-\\frac{x^2}{2}}\\, dx \\approx \\sum_{i=1}^n w_if(x_i)$$\n",
    "we will have\n",
    "$$ \\int_{-\\infty}^{\\infty} f(x) e^{-\\frac{(x-\\mu)^2}{2\\sigma^2}}\\, dx \\approx \\sigma \\sum_{i=1}^n w_if(\\mu + \\sigma x_i)$$\n",
    "</font >\n",
    "\n",
    "If $\\lambda_1$, $\\lambda_2$ don't follow standard normal $N(0,1)$, assume $\\lambda_1\\sim N(\\mu_1, \\sigma_1^2)$, $\\lambda_2\\sim N(\\mu_2, \\sigma_2^2)$, we will have \n",
    "\n",
    "$$ Q(\\lambda_1, \\lambda_2) = \\sum_{i,j=0}^{\\infty} q_{ij} \\Phi_{ij}\\left(\\frac{\\lambda_1 - \\mu_1}{\\sigma_1},\\frac{\\lambda_2 - \\mu_2}{\\sigma_2}\\right)$$\n",
    "\n",
    "\n",
    "\n",
    "Still use above $\\Phi_{ij}$, but in order to make it orthogonal, we should have basis like\n",
    "\n",
    "$$ \\Phi_{ij}\\left(\\frac{\\lambda_1 - \\mu_1}{\\sigma_1},\\frac{\\lambda_2 - \\mu_2}{\\sigma_2}\\right) $$\n",
    "\n",
    "then \n",
    "\n",
    "\\begin{align*}\n",
    "&\\,\\,\\, \\left(  \\Phi_{ij}\\left(\\frac{\\lambda_1 - \\mu_1}{\\sigma_1},\\frac{\\lambda_2 - \\mu_2}{\\sigma_2}\\right),  \\Phi_{kl}\\left(\\frac{\\lambda_1 - \\mu_1}{\\sigma_1},\\frac{\\lambda_2 - \\mu_2}{\\sigma_2}\\right)  \\right)\\\\\n",
    "&= \\left(  \\Phi_{i}\\left(\\frac{\\lambda_1 - \\mu_1}{\\sigma_1}\\right)\\Phi_{j}\\left(\\frac{\\lambda_2 - \\mu_2}{\\sigma_2}\\right),  \\Phi_{k}\\left(\\frac{\\lambda_1 - \\mu_1}{\\sigma_1}\\right) \\Phi_l\\left(\\frac{\\lambda_2 - \\mu_2}{\\sigma_2}\\right)  \\right)\\\\\n",
    "&= \\int_{R} \\int_{R} \\Phi_{i}\\left(\\frac{\\lambda_1 - \\mu_1}{\\sigma_1}\\right)\\Phi_{j}\\left(\\frac{\\lambda_2 - \\mu_2}{\\sigma_2}\\right)  \\Phi_{k}\\left(\\frac{\\lambda_1 - \\mu_1}{\\sigma_1}\\right) \\Phi_l\\left(\\frac{\\lambda_2 - \\mu_2}{\\sigma_2}\\right)e^{-\\frac{(\\lambda_1-\\mu_1)^2}{2\\sigma_1^2}} e^{-\\frac{(\\lambda_2-\\mu_2)^2}{2\\sigma_2^2}} d\\lambda_1 d\\lambda_2 \\\\\n",
    "&= \\sigma_1\\sigma_2 \\int_{R} \\int_{R} \\Phi_{i}(y_1)\\Phi_j(y_2)\\Phi_{k}(y_1)\\Phi_l(y_2) e^{-\\frac{y_1^2}{2}}e^{-\\frac{y_2^2}{2}}\\, dy_1\\, dy_2 \\\\\n",
    "&= \\sigma_1\\sigma_2 2\\pi i! j! \\delta_{ik}\\delta_{jl}\n",
    "\\end{align*}\n",
    "\n",
    "\n",
    "Since \n",
    "$$ Q(\\lambda_1, \\lambda_2) = \\sum_{i,j=0}^{\\infty} q_{ij} \\Phi_{ij}\\left(\\frac{\\lambda_1 - \\mu_1}{\\sigma_1},\\frac{\\lambda_2 - \\mu_2}{\\sigma_2}\\right)$$\n",
    "then\n",
    " \n",
    "\\begin{align*}\n",
    "q_{ij} &= \\frac{1}{\\left(\\Phi_{ij}\\left(\\frac{\\lambda_1 - \\mu_1}{\\sigma_1},\\frac{\\lambda_2 - \\mu_2}{\\sigma_2}\\right),\\Phi_{ij}\\left(\\frac{\\lambda_1 - \\mu_1}{\\sigma_1},\\frac{\\lambda_2 - \\mu_2}{\\sigma_2}\\right)\\right)} \\biggr(Q(\\lambda_1, \\lambda_2), \\  \\Phi_{ij}\\left(\\frac{\\lambda_1 - \\mu_1}{\\sigma_1},\\frac{\\lambda_2 - \\mu_2}{\\sigma_2}\\right)\\biggr) \\\\\n",
    "&= \\frac{1}{\\sigma_1 \\sigma_2 2\\pi i! j! } \\biggr(Q(\\lambda_1, \\lambda_2), \\  \\Phi_{ij}\\left(\\frac{\\lambda_1 - \\mu_1}{\\sigma_1},\\frac{\\lambda_2 - \\mu_2}{\\sigma_2}\\right)\\biggr)\\\\\n",
    "&= \\frac{1}{\\sigma_1 \\sigma_2 2\\pi i! j! } \\int_{-\\infty}^{\\infty}\\int_{-\\infty}^{\\infty} Q(\\lambda_1,\\lambda_2) \\Phi_i\\left(\\frac{\\lambda_1-\\mu_1}{\\sigma_1}\\right) e^{-\\frac{(\\lambda_1-\\mu_1)^2}{2\\sigma_1^2}} \\, d\\lambda_1 \\Phi_j\\left(\\frac{\\lambda_2-\\mu_2}{\\sigma_2}\\right) e^{-\\frac{(\\lambda_2-\\mu_2)^2}{2\\sigma_2^2}} \\, d\\lambda_2\\\\\n",
    "&= \\frac{1}{\\sigma_1 \\sigma_2 2\\pi i! j! } \\int_{-\\infty}^{\\infty} \\sigma_1 \\biggr( \\sum_{k=1}^n w_k Q(\\mu_1+\\sigma_1\\lambda_1^{(k)}, \\lambda_2)\\Phi_i(\\lambda_1^{(k)}) \\biggr) \\Phi_j\\left(\\frac{\\lambda_2 - \\mu_2}{\\sigma_2}\\right) e^{-\\frac{(\\lambda_2-\\mu_2)^2}{2\\sigma_2^2}} \\, d\\lambda_2\\\\ \n",
    "&= \\frac{1}{\\sigma_1 \\sigma_2 2\\pi i! j! } \\sigma_2 \\sum_{l=1}^n  w_l \\sigma_1 \\biggr( \\sum_{k=1}^n w_k Q(\\mu_1+\\sigma_1\\lambda_1^{(k)}, \\mu_2+\\sigma_2\\lambda_2^{(l)})\\Phi_i(\\lambda_1^{(k)}) \\biggr) \\Phi_j(\\lambda_2^{(l)})\\\\\n",
    "&= \\frac{1}{2\\pi i! j! } \\sum_{l=1}^n  w_l \\biggr( \\sum_{k=1}^n w_k Q(\\mu_1+\\sigma_1\\lambda_1^{(k)}, \\mu_2+\\sigma_2\\lambda_2^{(l)})\\Phi_i(\\lambda_1^{(k)}) \\biggr) \\Phi_j(\\lambda_2^{(l)})\n",
    "\\end{align*}"
   ]
  },
  {
   "cell_type": "markdown",
   "metadata": {},
   "source": [
    "Assume \n",
    "$$ \\lambda_1 \\sim N(\\mu_1, \\sigma_1^2) = N(0, 0.1^2) \\ \\ \\ \\lambda_2 \\sim N(\\mu_2, \\sigma_2^2) = N(0, 0.1^2) $$"
   ]
  },
  {
   "cell_type": "code",
   "execution_count": 3,
   "metadata": {
    "ExecuteTime": {
     "end_time": "2021-07-01T03:19:32.957193Z",
     "start_time": "2021-07-01T03:19:32.952194Z"
    }
   },
   "outputs": [],
   "source": [
    "proc_size = 25   # this number is determined by the number of data files"
   ]
  },
  {
   "cell_type": "code",
   "execution_count": 4,
   "metadata": {
    "ExecuteTime": {
     "end_time": "2021-07-01T03:19:32.970411Z",
     "start_time": "2021-07-01T03:19:32.962788Z"
    }
   },
   "outputs": [],
   "source": [
    "mu1 = 0\n",
    "mu2 = 0\n",
    "sigma1 = 0.1\n",
    "sigma2 = 0.1"
   ]
  },
  {
   "cell_type": "markdown",
   "metadata": {},
   "source": [
    "## Get $Q_n(\\lambda_1,\\lambda_2)$ (need to compute coef $q_{ij}$)"
   ]
  },
  {
   "cell_type": "code",
   "execution_count": 5,
   "metadata": {
    "ExecuteTime": {
     "end_time": "2021-07-01T03:19:34.009575Z",
     "start_time": "2021-07-01T03:19:32.974797Z"
    }
   },
   "outputs": [],
   "source": [
    "def Hermite_2d(i,j,x,y):\n",
    "    '''\n",
    "    Phi_{i,j}(x,y) = Phi_i(x) * Phi_j(y)  (left: 2d; right: 1d)\n",
    "    '''\n",
    "    c = np.zeros((20,20))\n",
    "    c[i,j] = 1\n",
    "    return H.hermeval2d(x, y, c)\n",
    " \n",
    "Q_FEM_quad = np.zeros(int(400))   #already include information of mu1, mu2, sigma1, sigma2\n",
    "for i in range(proc_size):          \n",
    "    filename = os.path.join(os.getcwd(), \"Data\", \"Q_FEM_quad_\") + str(i) + \".mat\"\n",
    "    partial_data = sio.loadmat(filename)\n",
    "    Q_FEM_quad += partial_data['Q_FEM'].reshape(int(400))\n",
    "\n",
    "def Phi(n):\n",
    "    #define H_n\n",
    "    coeffs = [0]*(n+1)\n",
    "    coeffs[n] = 1\n",
    "    return coeffs\n",
    "\n",
    "def q(i,j):\n",
    "    '''\n",
    "    copmute coefficient q_{ij}    \n",
    "    Set up Gauss-Hermite quadrature, weighting function is exp^{-x^2}\n",
    "    '''\n",
    "    x, w=H.hermegauss(20)     \n",
    "    Q=sum([w[ldx]*sum([w[kdx] * Q_FEM_quad[ldx*20+kdx] * H.hermeval(x[kdx],Phi(i)) for kdx in range(20)])*H.hermeval(x[ldx],Phi(j)) for ldx in range(20)])     \n",
    "    q= Q/(2*np.pi*factorial(i)*factorial(j))\n",
    "    \n",
    "    return q\n",
    "\n",
    "qij = np.zeros((10,10))\n",
    "for i in range(10):\n",
    "    for j in range(10):\n",
    "        qij[i,j] = q(i,j)\n",
    "        \n",
    "def Q(n,x,y):\n",
    "    result = 0 \n",
    "    for i in range(n+1):\n",
    "        for j in range(n+1):\n",
    "            if i+j <=n:\n",
    "                result += qij[i,j]*Hermite_2d(i,j,(x-mu1)/sigma1,(y-mu2)/sigma2)\n",
    "    return result\n",
    "\n",
    "def Qexact(x,y,a=0.4,b=0.6,c=0.4,d=0.6):\n",
    "    sol = (np.cos(x*np.pi*a)-np.cos(x*np.pi*b))*(np.sin(y*np.pi*d)-np.sin(y*np.pi*c))/((b-a)*(d-c)*x*y*np.pi**2)\n",
    "    return sol"
   ]
  },
  {
   "cell_type": "code",
   "execution_count": 6,
   "metadata": {
    "ExecuteTime": {
     "end_time": "2021-07-01T03:19:34.766482Z",
     "start_time": "2021-07-01T03:19:34.012986Z"
    }
   },
   "outputs": [
    {
     "data": {
      "image/png": "[encoded data removed]",
      "text/plain": [
       "<Figure size 576x504 with 2 Axes>"
      ]
     },
     "metadata": {
      "needs_background": "light"
     },
     "output_type": "display_data"
    }
   ],
   "source": [
    "#Visualize the error between PCE and exact\n",
    "fig = plt.figure(figsize=(8,7))\n",
    "ax = fig.gca(projection='3d')\n",
    "\n",
    "# Make data.\n",
    "X = np.arange(-0.5, 0.5, 0.1)\n",
    "Y = np.arange(-0.5, 0.5, 0.1)\n",
    "X, Y = np.meshgrid(X, Y)\n",
    "# Z = Q(1, X, Y)\n",
    "# Z = Q(5,X,Y) - Qexact(X,Y)\n",
    "Z = Qexact(X,Y)\n",
    "\n",
    "# Plot the surface.\n",
    "surf = ax.plot_surface(X, Y, Z, cmap=cm.coolwarm,\n",
    "                       linewidth=0, antialiased=False)\n",
    "\n",
    "# Customize the z axis.\n",
    "ax.set_zlim(-0.5, 0.5)        #Qexact zlim(-0.5,0.5); Qi-Q_exact zlim(-1.2,1.2)\n",
    "ax.set_xlabel(\"$\\lambda_1$\", fontsize = 16)\n",
    "ax.set_ylabel(\"$\\lambda_2$\", fontsize = 16)\n",
    "ax.tick_params(direction='out', length=6, width=2, pad=1 ,colors='black',  \\\n",
    "               grid_color='r', grid_alpha=0.5, labelsize=14)    #pad:dist b/t label and axis\n",
    "cbaxes = fig.add_axes([0.88, 0.25, 0.03, 0.5])     #1st:horizontal, 2&4th:vertical, 3rd:width\n",
    "fig.colorbar(surf, shrink=5, aspect=14, cax=cbaxes)\n",
    "plt.show()\n",
    "# fig.savefig(\"images/2Q_exact_5std\")   #2Q_exact_5std, 2Q1_5std"
   ]
  },
  {
   "cell_type": "markdown",
   "metadata": {},
   "source": [
    "## Forward Problem\n",
    "Assume \n",
    "$$ \\lambda_1 \\sim N(\\mu_1, \\sigma_1^2) = N(0, 0.1^2) \\ \\ \\ \\lambda_2 \\sim N(\\mu_2, \\sigma_2^2) = N(0, 0.1^2) $$\n",
    "\n",
    "### Verify Assumption 1"
   ]
  },
  {
   "cell_type": "code",
   "execution_count": 7,
   "metadata": {
    "ExecuteTime": {
     "end_time": "2021-07-01T03:21:25.074114Z",
     "start_time": "2021-07-01T03:19:34.773394Z"
    }
   },
   "outputs": [],
   "source": [
    "##### Generate data in Table 4 and 5 #####\n",
    "def assumption1(n, J):\n",
    "    np.random.seed(123456)\n",
    "    lam1sample = np.random.normal(mu1, sigma1, J)\n",
    "    lam2sample = np.random.normal(mu2, sigma2, J)\n",
    "    pfprior_sample_n = Q(n, lam1sample, lam2sample)\n",
    "    pfprior_dens_n = kde(pfprior_sample_n)\n",
    "    x = np.linspace(-1, 1, 1000)\n",
    "    return np.round(np.max(np.abs(np.gradient(pfprior_dens_n(x), x))), 2), np.round(np.max(pfprior_dens_n(x)), 2)\n",
    "\n",
    "\n",
    "size_J = [int(1E3), int(1E4), int(1E5)]\n",
    "degree_n = [1, 2, 3, 4, 5]\n",
    "Bound_matrix, Lip_Bound_matrix = np.zeros((3, 5)), np.zeros((3, 5))\n",
    "for i in range(3):\n",
    "    for j in range(5):\n",
    "        n, J = degree_n[j], size_J[i]\n",
    "        Lip_Bound_matrix[i, j] = assumption1(n, J)[0]\n",
    "        Bound_matrix[i, j] = assumption1(n, J)[1]"
   ]
  },
  {
   "cell_type": "markdown",
   "metadata": {},
   "source": [
    "#### Table 7"
   ]
  },
  {
   "cell_type": "code",
   "execution_count": 8,
   "metadata": {
    "ExecuteTime": {
     "end_time": "2021-07-01T03:21:25.091054Z",
     "start_time": "2021-07-01T03:21:25.081174Z"
    }
   },
   "outputs": [
    {
     "name": "stdout",
     "output_type": "stream",
     "text": [
      "Table 7\n",
      "Bound under certain n and J values\n",
      "[[2.63 2.63 2.61 2.61 2.61]\n",
      " [2.64 2.64 2.61 2.61 2.61]\n",
      " [2.6  2.6  2.57 2.57 2.57]]\n"
     ]
    }
   ],
   "source": [
    "###########################################\n",
    "################ Table 7 ##################\n",
    "###########################################\n",
    "print('Table 7')\n",
    "print('Bound under certain n and J values')\n",
    "print(Bound_matrix)"
   ]
  },
  {
   "cell_type": "markdown",
   "metadata": {},
   "source": [
    "#### Table 8"
   ]
  },
  {
   "cell_type": "code",
   "execution_count": 9,
   "metadata": {
    "ExecuteTime": {
     "end_time": "2021-07-01T03:21:25.104560Z",
     "start_time": "2021-07-01T03:21:25.097565Z"
    }
   },
   "outputs": [
    {
     "name": "stdout",
     "output_type": "stream",
     "text": [
      "Table 8\n",
      "Lipschitz bound under certain n and J values\n",
      "[[12.11 12.11 11.95 11.95 11.95]\n",
      " [11.47 11.47 11.41 11.41 11.41]\n",
      " [11.07 11.07 10.86 10.86 10.86]]\n"
     ]
    }
   ],
   "source": [
    "###########################################\n",
    "################ Table 8 ##################\n",
    "###########################################\n",
    "print('Table 8')\n",
    "print('Lipschitz bound under certain n and J values')\n",
    "print(Lip_Bound_matrix)"
   ]
  },
  {
   "cell_type": "code",
   "execution_count": 10,
   "metadata": {
    "ExecuteTime": {
     "end_time": "2021-07-01T03:21:25.882853Z",
     "start_time": "2021-07-01T03:21:25.108985Z"
    }
   },
   "outputs": [
    {
     "data": {
      "text/plain": [
       "<Figure size 576x432 with 0 Axes>"
      ]
     },
     "metadata": {},
     "output_type": "display_data"
    },
    {
     "data": {
      "application/vnd.jupyter.widget-view+json": {
       "model_id": "d5fa49de411b4d0682b151d69afa9d20",
       "version_major": 2,
       "version_minor": 0
      },
      "text/plain": [
       "interactive(children=(IntSlider(value=1, description='n', max=5, min=1), IntSlider(value=1000, description='J'…"
      ]
     },
     "metadata": {},
     "output_type": "display_data"
    },
    {
     "data": {
      "text/plain": [
       "<function __main__.plot_pushforward(n, J)>"
      ]
     },
     "execution_count": 10,
     "metadata": {},
     "output_type": "execute_result"
    }
   ],
   "source": [
    "#### Use plot to show the difference between the exact pushforward and approximate pushforward #####\n",
    "fig = plt.figure()\n",
    "def plot_pushforward(n,J):\n",
    "    #pfprior_dens = kde(Q_FEM)\n",
    "    \n",
    "    np.random.seed(123456)\n",
    "    lam1sample = np.random.normal(mu1,sigma1,J)\n",
    "    lam2sample = np.random.normal(mu2,sigma2,J)\n",
    "\n",
    "    pfprior_sample = Qexact(lam1sample,lam2sample)\n",
    "    pfprior_dens = kde(pfprior_sample)\n",
    "    \n",
    "    pfprior_sample_n = Q(n,lam1sample,lam2sample)\n",
    "    pfprior_dens_n = kde(pfprior_sample_n)\n",
    "    \n",
    "    fig.clear()\n",
    "    qplot = np.linspace(-1,1, num=1000)\n",
    "        \n",
    "    plt.plot(qplot,pfprior_dens(qplot),color='r', linestyle='-.', linewidth=4,label=\"$\\pi_{\\mathcal{D}}^{Q}$\")\n",
    "    plt.plot(qplot,pfprior_dens_n(qplot),label=\"$\\pi_{\\mathcal{D}}^{Q_n}$\")\n",
    "        \n",
    "    plt.title('Lipschitz const. = %4.2f and Bound = %2.2f' %(np.max(np.abs(np.gradient(pfprior_dens_n(qplot), qplot))),\n",
    "                                                                             np.max(pfprior_dens_n(qplot))))\n",
    "    plt.legend()\n",
    "    \n",
    "interact(plot_pushforward, \n",
    "         n = widgets.IntSlider(value=int(1),min=int(1),max=int(5),step=1),\n",
    "         J = widgets.IntSlider(value=int(1E3),min=int(1E3),max=int(1E5),step=int(1E3)))"
   ]
  },
  {
   "cell_type": "markdown",
   "metadata": {},
   "source": [
    "### Verify Lemma 1\n",
    "**Print out Monte Carlo Approximation of $\t\\|\\pi_{\\mathcal{D}}^Q(q)-\\pi_{\\mathcal{D}}^{Q_n}(q)\\|_{L^r(\\mathcal{D_c})} $ where $r>0$ and $D_c=[-1,1]$**"
   ]
  },
  {
   "cell_type": "code",
   "execution_count": 11,
   "metadata": {
    "ExecuteTime": {
     "end_time": "2021-07-01T03:21:25.902269Z",
     "start_time": "2021-07-01T03:21:25.887177Z"
    }
   },
   "outputs": [],
   "source": [
    "##### Generate data for the left plot of Fig 3 #####\n",
    "# Define push-forward densities\n",
    "N_kde = int(1E4)\n",
    "N_mc = int(1E4)\n",
    "\n",
    "np.random.seed(123456)\n",
    "lam1sample = np.random.normal(mu1,sigma1,N_kde)\n",
    "lam2sample = np.random.normal(mu2,sigma2,N_kde)\n",
    "pfprior_dens = kde(Qexact(lam1sample,lam2sample))\n",
    "\n",
    "def pfprior_dens_n(n,x):\n",
    "    pfprior_sample_n =  Q(n,lam1sample,lam2sample)\n",
    "    pdf = kde(pfprior_sample_n)\n",
    "    return pdf(x)"
   ]
  },
  {
   "cell_type": "code",
   "execution_count": 12,
   "metadata": {
    "ExecuteTime": {
     "end_time": "2021-07-01T03:23:32.599714Z",
     "start_time": "2021-07-01T03:21:25.906009Z"
    }
   },
   "outputs": [],
   "source": [
    "# **Print out Monte Carlo Approximation of $\t\\|\\pi_{\\mathcal{D}}^Q(q)-\\pi_{\\mathcal{D}}^{Q_n}(q)\\|_{L^r(\\mathcal{D_c})} $ where $r>0$ and $D_c=[-1,1]$**\n",
    "np.random.seed(123456)\n",
    "qsample = np.random.uniform(-1,1,N_mc)\n",
    "\n",
    "def error_r_onD(r,n):\n",
    "    diff = (np.mean((np.abs(pfprior_dens_n(n,qsample) - pfprior_dens(qsample)))**r))**(1/r)\n",
    "    return diff\n",
    "\n",
    "error_r_D = np.zeros((5,5))\n",
    "for i in range(5):\n",
    "    for j in range(5):\n",
    "        error_r_D[i,j] = error_r_onD(i+1,j+1)"
   ]
  },
  {
   "cell_type": "code",
   "execution_count": 13,
   "metadata": {
    "ExecuteTime": {
     "end_time": "2021-07-01T03:23:32.628053Z",
     "start_time": "2021-07-01T03:23:32.609100Z"
    }
   },
   "outputs": [
    {
     "name": "stdout",
     "output_type": "stream",
     "text": [
      "L^r error on data space for Forward Problem\n",
      "\n",
      "[[5.78985998e-03 5.78986860e-03 3.66465835e-05 3.66458716e-05 4.68447031e-06]\n",
      " [1.00098540e-02 1.00098559e-02 6.48003418e-05 6.48018329e-05 6.83125067e-06]\n",
      " [1.29985177e-02 1.29985144e-02 8.36155928e-05 8.36174583e-05 7.98012310e-06]\n",
      " [1.51923261e-02 1.51923210e-02 9.70172096e-05 9.70187251e-05 8.72619888e-06]\n",
      " [1.68583067e-02 1.68583012e-02 1.07115873e-04 1.07116859e-04 9.26298356e-06]]\n"
     ]
    }
   ],
   "source": [
    "np.set_printoptions(linewidth=110) \n",
    "print('L^r error on data space for Forward Problem',end='\\n\\n')\n",
    "print(error_r_D) "
   ]
  },
  {
   "cell_type": "code",
   "execution_count": 14,
   "metadata": {
    "ExecuteTime": {
     "end_time": "2021-07-01T03:23:32.653535Z",
     "start_time": "2021-07-01T03:23:32.634719Z"
    }
   },
   "outputs": [],
   "source": [
    "#### To make it cleaner, create Directory \"images\" to store all the figures ####\n",
    "imagepath = os.path.join(os.getcwd(),\"images\")\n",
    "os.makedirs(imagepath,exist_ok=True)"
   ]
  },
  {
   "cell_type": "markdown",
   "metadata": {},
   "source": [
    "#### Left plot in Figure 4"
   ]
  },
  {
   "cell_type": "code",
   "execution_count": 15,
   "metadata": {
    "ExecuteTime": {
     "end_time": "2021-07-01T03:23:33.707431Z",
     "start_time": "2021-07-01T03:23:32.660388Z"
    }
   },
   "outputs": [
    {
     "data": {
      "image/png": "[encoded data removed]",
      "text/plain": [
       "<Figure size 576x432 with 1 Axes>"
      ]
     },
     "metadata": {
      "needs_background": "light"
     },
     "output_type": "display_data"
    }
   ],
   "source": [
    "###########################################\n",
    "######### The left plot of Fig 4 ##########\n",
    "###########################################\n",
    "fig = plt.figure()\n",
    "plt.xlim([0,6])\n",
    "marker = ['-D', '-o', '-v', '-s', '-.']\n",
    "for i in range(5):\n",
    "    plt.semilogy([1,2,3,4,5],error_r_D[i,:],marker[i],label='r = ' + np.str(i+1))    \n",
    "plt.xlabel('Order of PCE (n)')\n",
    "plt.ylabel('$L^r$'+' Error in Push-Forward on '+'$\\mathcal{D}$')\n",
    "plt.legend()\n",
    "# fig.savefig(\"images/2forward_error_D.png\")\n",
    "fig.savefig(\"images/Fig4(Left).png\")"
   ]
  },
  {
   "cell_type": "markdown",
   "metadata": {},
   "source": [
    "### Verify Theorem 3.1\n",
    "**Print out Monte Carlo Approximation of $\t\\|\\pi_{\\mathcal{D}}^Q(Q(\\lambda))-\\pi_{\\mathcal{D}}^{Q_n}(Q_n(\\lambda))\\|_{L^2(\\Lambda)} $**"
   ]
  },
  {
   "cell_type": "code",
   "execution_count": 16,
   "metadata": {
    "ExecuteTime": {
     "end_time": "2021-07-01T03:23:57.149993Z",
     "start_time": "2021-07-01T03:23:33.714011Z"
    }
   },
   "outputs": [],
   "source": [
    "##### Generate data for the right plot of Fig 4 #####\n",
    "np.random.seed(123456)\n",
    "lam1_seed = np.random.normal(mu1,sigma1,int(1E4))\n",
    "lam2_seed = np.random.normal(mu2,sigma2,int(1E4))   #int(1E4) since Q_FEM size\n",
    "\n",
    "error_2_Lam = np.zeros(5)\n",
    "for i in range(5):\n",
    "    pfprior_sample = Qexact(lam1_seed,lam2_seed)\n",
    "    error_2_Lam[i] = (np.mean((np.abs(pfprior_dens_n(i+1,Q(i+1,lam1_seed,lam2_seed))\\\n",
    "                                      - pfprior_dens(pfprior_sample)))**2))**(1/2)   "
   ]
  },
  {
   "cell_type": "code",
   "execution_count": 17,
   "metadata": {
    "ExecuteTime": {
     "end_time": "2021-07-01T03:23:57.232407Z",
     "start_time": "2021-07-01T03:23:57.154772Z"
    }
   },
   "outputs": [
    {
     "name": "stdout",
     "output_type": "stream",
     "text": [
      "L^2 error on parameter space for Forward Problem\n",
      "\n",
      "[2.78836391e-02 2.78836376e-02 2.33315440e-04 2.33317057e-04 1.82851667e-05]\n"
     ]
    }
   ],
   "source": [
    "np.set_printoptions(linewidth=110)   \n",
    "print('L^2 error on parameter space for Forward Problem',end='\\n\\n')\n",
    "print(error_2_Lam)  "
   ]
  },
  {
   "cell_type": "markdown",
   "metadata": {},
   "source": [
    "#### Right plot in Figure 4"
   ]
  },
  {
   "cell_type": "code",
   "execution_count": 18,
   "metadata": {
    "ExecuteTime": {
     "end_time": "2021-07-01T03:23:58.007927Z",
     "start_time": "2021-07-01T03:23:57.236575Z"
    }
   },
   "outputs": [
    {
     "data": {
      "image/png": "[encoded data removed]",
      "text/plain": [
       "<Figure size 576x432 with 1 Axes>"
      ]
     },
     "metadata": {
      "needs_background": "light"
     },
     "output_type": "display_data"
    }
   ],
   "source": [
    "############################################\n",
    "######### The right plot of Fig 4 ##########\n",
    "############################################\n",
    "fig = plt.figure()\n",
    "plt.xlim([0,6])\n",
    "plt.semilogy([1,2,3,4,5], error_2_Lam, '-s' )#, label='$L^2(\\Lambda)$ error')\n",
    "plt.xlabel('Order of PCE (n)')\n",
    "plt.ylabel('$L^2$'+' Error in Push-Forward on '+'$\\Lambda$');\n",
    "# fig.savefig(\"images/2forward_error_lam.png\")\n",
    "fig.savefig(\"images/Fig4(Right).png\")"
   ]
  },
  {
   "cell_type": "markdown",
   "metadata": {},
   "source": [
    "## Inverse Problem\n",
    "\n",
    "Compute $\\pi_{\\Lambda}^u$ and $\\pi_{\\Lambda}^{u,n}$\n",
    "\n",
    "Observed pdf is $\\pi_{\\mathcal{D}} \\sim N(0.3,0.1^2)$\n",
    "\n",
    "Guess is $\\lambda_1\\sim N(0,0.1)$, $\\lambda_2\\sim N(0,0.1)$\n",
    "\n",
    "Verify Result of Theorem 4.2:\n",
    "\n",
    "$Q_n(\\lambda)\\to Q(\\lambda)$ in $L^p(\\Lambda)$, $\\pi_{\\Lambda}^{init}\\in L^p(\\mathcal{D})$. If Assumptions 1, 2 hold, $\\{\\pi_{\\mathcal{D}}^{Q_n}\\}$ are uniformly integrable in $L^p(\\mathcal{D})$, then \n",
    "\\begin{equation}\n",
    "        \\pi_{\\Lambda}^{u,n}(\\lambda) \\to \\pi_{\\Lambda}^{u}(\\lambda) \\text{ in } L^p(\\Lambda) \n",
    "\\end{equation}"
   ]
  },
  {
   "cell_type": "code",
   "execution_count": 19,
   "metadata": {
    "ExecuteTime": {
     "end_time": "2021-07-01T03:23:58.022374Z",
     "start_time": "2021-07-01T03:23:58.013431Z"
    }
   },
   "outputs": [],
   "source": [
    "def rejection_sampling(r):\n",
    "    N = r.size # size of proposal sample set\n",
    "    check = np.random.uniform(low=0,high=1,size=N) # create random uniform weights to check r against\n",
    "    M = np.max(r)\n",
    "    new_r = r/M     # normalize weights \n",
    "    idx = np.where(new_r>=check)[0] # rejection criterion\n",
    "    return idx\n",
    "\n",
    "def pdf_obs(x):\n",
    "    return norm.pdf(x, loc=0.1, scale=0.1)"
   ]
  },
  {
   "cell_type": "code",
   "execution_count": 20,
   "metadata": {
    "ExecuteTime": {
     "end_time": "2021-07-01T03:23:58.597156Z",
     "start_time": "2021-07-01T03:23:58.026745Z"
    }
   },
   "outputs": [
    {
     "data": {
      "image/png": "[encoded data removed]",
      "text/plain": [
       "<Figure size 576x432 with 1 Axes>"
      ]
     },
     "metadata": {
      "needs_background": "light"
     },
     "output_type": "display_data"
    }
   ],
   "source": [
    "#### Use plot to show the difference between the pushforward of the init and the observed #####\n",
    "plt.figure()\n",
    "xx = np.linspace(-1,1,100)\n",
    "plt.plot(xx,pdf_obs(xx),label=\"$\\pi_{\\mathcal{D}}^{obs}$\")\n",
    "plt.plot(xx,pfprior_dens(xx), label=\"$\\pi_{\\mathcal{D}}^{Q(init)}$\")\n",
    "plt.xlabel(\"$\\mathcal{D}$\")\n",
    "plt.legend();\n",
    "# fig.savefig(\"images/2obs_pushforward.png\")"
   ]
  },
  {
   "cell_type": "markdown",
   "metadata": {},
   "source": [
    "### Verify Assumption 2"
   ]
  },
  {
   "cell_type": "code",
   "execution_count": 21,
   "metadata": {
    "ExecuteTime": {
     "end_time": "2021-07-01T03:24:12.308419Z",
     "start_time": "2021-07-01T03:23:58.601941Z"
    }
   },
   "outputs": [],
   "source": [
    "def Meanr(n):\n",
    "    if n==0:\n",
    "        pfprior_sample = Qexact(lam1_seed,lam2_seed)\n",
    "        r = pdf_obs(pfprior_sample)/pfprior_dens(pfprior_sample)\n",
    "    else:\n",
    "        pfprior_sample_n = Q(n,lam1_seed,lam2_seed)\n",
    "        r = pdf_obs(pfprior_sample_n)/pfprior_dens_n(n,pfprior_sample_n)\n",
    "    return np.mean(r)\n",
    "\n",
    "Expect_r = np.zeros(6)\n",
    "for i in range(6):\n",
    "    Expect_r[i] = Meanr(i)"
   ]
  },
  {
   "cell_type": "code",
   "execution_count": 22,
   "metadata": {
    "ExecuteTime": {
     "end_time": "2021-07-01T03:24:12.334804Z",
     "start_time": "2021-07-01T03:24:12.312253Z"
    }
   },
   "outputs": [
    {
     "name": "stdout",
     "output_type": "stream",
     "text": [
      "Expected ratio for verifying Assumption 2\n",
      "[1.00179843 1.00179844 1.00197    1.00197    1.00197088]\n"
     ]
    }
   ],
   "source": [
    "print('Expected ratio for verifying Assumption 2')\n",
    "print(Expect_r[1:])"
   ]
  },
  {
   "cell_type": "markdown",
   "metadata": {},
   "source": [
    "### Verify Theorem 4.2\n",
    "\n",
    "Print out Monte Carlo Approximation of $\\|\\pi_{\\Lambda}^{u,n}(\\lambda)-\\pi_{\\Lambda}^u(\\lambda)\\|_{L^2(\\Lambda)} $ "
   ]
  },
  {
   "cell_type": "markdown",
   "metadata": {},
   "source": [
    "\\begin{align*}\n",
    "\\|\\pi_{\\Lambda}^{u,n}(\\lambda)-\\pi_{\\Lambda}^u(\\lambda)\\|^2_{L^2(\\Lambda)} &= \\int (\\pi^i(\\lambda))^2 (r_n(\\lambda) - r(\\lambda))^2\\, d\\mu_{\\Lambda}\\\\\n",
    "&= \\mathbb{E}_i (\\pi^i(\\lambda)(r_n(\\lambda) - r(\\lambda))^2)\\\\\n",
    "&\\approx \\frac{1}{N} \\sum_{j=1}^N \\pi^i(\\lambda^{(j)})(r_n(\\lambda^{(j)}) -r(\\lambda^{(j)}) )^2\n",
    "\\end{align*}"
   ]
  },
  {
   "cell_type": "code",
   "execution_count": 23,
   "metadata": {
    "ExecuteTime": {
     "end_time": "2021-07-01T03:24:15.947159Z",
     "start_time": "2021-07-01T03:24:12.365803Z"
    }
   },
   "outputs": [],
   "source": [
    "##### Load data for Fig 5 #####\n",
    "# Print out Monte Carlo Approximation of $\\|\\pi_{\\Lambda}^{u,n}(\\lambda)-\\pi_{\\Lambda}^u(\\lambda)\\|_{L^2(\\Lambda)} $\n",
    "init_eval = np.zeros(int(1E4))\n",
    "for i in range(int(1E4)):\n",
    "    init_eval[i] = norm.pdf(lam1_seed[i], loc=0.1, scale=0.1)*norm.pdf(lam2_seed[i], loc=0.1, scale=0.1)\n",
    "\n",
    "r = np.zeros(int(1E4))\n",
    "for i in range(proc_size):\n",
    "    filename = os.path.join(os.getcwd(), \"Data\", \"r_\") + str(i) + \".mat\" \n",
    "    partial_data = sio.loadmat(filename)\n",
    "    r += partial_data['r'].reshape(int(1E4))\n",
    "\n",
    "rn = np.zeros((6,int(1E4)))\n",
    "for i in range(6):\n",
    "    for j in range(proc_size):\n",
    "        filename = os.path.join(os.getcwd(), \"Data\", \"r\")  + str(i+1) + '_' + str(j) + \".mat\" \n",
    "        partial_data = sio.loadmat(filename)\n",
    "        rn[i,:] += partial_data['r'].reshape(int(1E4))"
   ]
  },
  {
   "cell_type": "code",
   "execution_count": 24,
   "metadata": {
    "ExecuteTime": {
     "end_time": "2021-07-01T03:24:16.047676Z",
     "start_time": "2021-07-01T03:24:15.952794Z"
    }
   },
   "outputs": [],
   "source": [
    "error_Update = np.zeros(5)\n",
    "\n",
    "for i in range(5):\n",
    "    error_Update[i] = (np.mean(init_eval*(rn[i,:] - r)**2))**(1/2)"
   ]
  },
  {
   "cell_type": "code",
   "execution_count": 25,
   "metadata": {
    "ExecuteTime": {
     "end_time": "2021-07-01T03:24:16.065372Z",
     "start_time": "2021-07-01T03:24:16.051464Z"
    }
   },
   "outputs": [
    {
     "name": "stdout",
     "output_type": "stream",
     "text": [
      "L^2 Error for Inverse Problem\n",
      "\n",
      "[4.25879362e-01 4.25878780e-01 5.37649557e-03 5.37799511e-03 3.87794081e-04]\n"
     ]
    }
   ],
   "source": [
    "np.set_printoptions(linewidth=110) \n",
    "print('L^2 Error for Inverse Problem',end='\\n\\n')\n",
    "print(error_Update)   "
   ]
  },
  {
   "cell_type": "markdown",
   "metadata": {},
   "source": [
    "#### Figure 5"
   ]
  },
  {
   "cell_type": "code",
   "execution_count": 26,
   "metadata": {
    "ExecuteTime": {
     "end_time": "2021-07-01T03:24:16.648365Z",
     "start_time": "2021-07-01T03:24:16.070249Z"
    }
   },
   "outputs": [
    {
     "data": {
      "image/png": "[encoded data removed]",
      "text/plain": [
       "<Figure size 576x432 with 1 Axes>"
      ]
     },
     "metadata": {
      "needs_background": "light"
     },
     "output_type": "display_data"
    }
   ],
   "source": [
    "###########################################\n",
    "################ Figure 5 #################\n",
    "###########################################\n",
    "fig = plt.figure()\n",
    "plt.xlim([0,6])\n",
    "plt.semilogy([1,2,3,4,5], error_Update, '-s')#, label='$L^2(\\Lambda)$ error')\n",
    "plt.xlabel('Order of PCE (n)')\n",
    "plt.ylabel('$L^2$'+' Error in Update')\n",
    "# fig.savefig(\"images/2inverse_error.png\")\n",
    "fig.savefig(\"images/Fig5.png\")"
   ]
  }
 ],
 "metadata": {
  "kernelspec": {
   "display_name": "Python 3",
   "language": "python",
   "name": "python3"
  },
  "language_info": {
   "codemirror_mode": {
    "name": "ipython",
    "version": 3
   },
   "file_extension": ".py",
   "mimetype": "text/x-python",
   "name": "python",
   "nbconvert_exporter": "python",
   "pygments_lexer": "ipython3",
   "version": "3.6.7"
  },
  "latex_envs": {
   "LaTeX_envs_menu_present": true,
   "autoclose": false,
   "autocomplete": true,
   "bibliofile": "biblio.bib",
   "cite_by": "apalike",
   "current_citInitial": 1,
   "eqLabelWithNumbers": true,
   "eqNumInitial": 1,
   "hotkeys": {
    "equation": "Ctrl-E",
    "itemize": "Ctrl-I"
   },
   "labels_anchors": false,
   "latex_user_defs": false,
   "report_style_numbering": false,
   "user_envs_cfg": false
  },
  "toc": {
   "base_numbering": 1,
   "nav_menu": {},
   "number_sections": true,
   "sideBar": true,
   "skip_h1_title": false,
   "title_cell": "Table of Contents",
   "title_sidebar": "Contents",
   "toc_cell": false,
   "toc_position": {},
   "toc_section_display": true,
   "toc_window_display": false
  },
  "varInspector": {
   "cols": {
    "lenName": 16,
    "lenType": 16,
    "lenVar": 40
   },
   "kernels_config": {
    "python": {
     "delete_cmd_postfix": "",
     "delete_cmd_prefix": "del ",
     "library": "var_list.py",
     "varRefreshCmd": "print(var_dic_list())"
    },
    "r": {
     "delete_cmd_postfix": ") ",
     "delete_cmd_prefix": "rm(",
     "library": "var_list.r",
     "varRefreshCmd": "cat(var_dic_list()) "
    }
   },
   "types_to_exclude": [
    "module",
    "function",
    "builtin_function_or_method",
    "instance",
    "_Feature"
   ],
   "window_display": false
  }
 },
 "nbformat": 4,
 "nbformat_minor": 2
}
