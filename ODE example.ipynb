{
 "cells": [
  {
   "cell_type": "markdown",
   "metadata": {},
   "source": [
    "########################################################\n",
    "### This file is used to generate Table 4-6, Fig 2-3 ###\n",
    "########################################################\n",
    "\n",
    "- [Forward Problem](#Forward-Problem)\n",
    "    - [Verify Assumption 1](#Verify-Assumption-1)\n",
    "        - [Table 4](#Table-4)\n",
    "        - [Table 5](#Table-5)\n",
    "    - [Verify Lemma 1](#Verify-Lemma-1)\n",
    "        - [Left plot in Figure 2](#Left-plot-in-Figure-2)\n",
    "    - [Verify Theorem 3.1](#Verify-Theorem-3.1)\n",
    "        - [Right plot in Figure 2](#Right-plot-in-Figure-2)\n",
    "- [Inverse Problem](#Inverse-Problem)\n",
    "    - [Verify Assumption 2](#Verify-Assumption-2)\n",
    "        - [Table 6](#Table-6)\n",
    "    - [Verify Theorem 4.2](#Verify-Theorem-4.2)\n",
    "        - [Figure 3](#Figure-3)"
   ]
  },
  {
   "cell_type": "code",
   "execution_count": 1,
   "metadata": {
    "ExecuteTime": {
     "end_time": "2021-07-01T02:52:18.517442Z",
     "start_time": "2021-07-01T02:52:16.004656Z"
    }
   },
   "outputs": [],
   "source": [
    "import os\n",
    "import numpy as np\n",
    "import numpy.polynomial.legendre as leg\n",
    "from scipy.stats import beta\n",
    "from scipy.stats import uniform\n",
    "from scipy.integrate import odeint\n",
    "from scipy.stats import gaussian_kde as kde\n",
    "from ipywidgets import interact, interactive, fixed, interact_manual\n",
    "import ipywidgets as widgets\n",
    "\n",
    "from matplotlib import pyplot as plt\n",
    "%matplotlib inline"
   ]
  },
  {
   "cell_type": "code",
   "execution_count": 2,
   "metadata": {
    "ExecuteTime": {
     "end_time": "2021-07-01T02:52:18.539823Z",
     "start_time": "2021-07-01T02:52:18.520623Z"
    }
   },
   "outputs": [],
   "source": [
    "####### Plot Formatting ######\n",
    "plt.rc('lines', linewidth = 1.5)\n",
    "plt.rc('xtick', labelsize = 14)\n",
    "plt.rc('ytick', labelsize = 14)\n",
    "plt.rc('legend',fontsize=14)\n",
    "# plt.rcParams[\"font.family\"] = \"serif\"\n",
    "plt.rcParams['axes.labelsize'] = 20\n",
    "plt.rcParams['axes.titlesize'] = 12\n",
    "plt.rcParams['lines.markersize'] = 6\n",
    "plt.rcParams['figure.figsize'] = (8.0, 6.0)"
   ]
  },
  {
   "cell_type": "markdown",
   "metadata": {},
   "source": [
    "## Modified version of Example from Xiu2002\n",
    "\n",
    "$$ \\frac{dy(t)}{dt} = -\\lambda y, \\ \\  y(0)=1 $$\n",
    "$$ y(t) = e^{-\\lambda t} $$\n",
    "$$QoI = y(0.5)$$\n",
    "\n",
    "$\\lambda\\sim U[-1,1]$, $t\\in[0,1]$\n",
    "\n",
    "$\\Lambda = [-1,1]$, $\\mathcal{D}=[e^{-0.5},e^{0.5}]$"
   ]
  },
  {
   "cell_type": "code",
   "execution_count": 3,
   "metadata": {
    "ExecuteTime": {
     "end_time": "2021-07-01T02:52:18.572837Z",
     "start_time": "2021-07-01T02:52:18.550125Z"
    }
   },
   "outputs": [],
   "source": [
    "def Phi(n):\n",
    "    '''Define L_n'''\n",
    "    coeffs = [0]*(n+1)\n",
    "    coeffs[n] = 1\n",
    "    return coeffs\n",
    "\n",
    "def inner2_leg(n):       \n",
    "    return 2/(2*n+1)\n",
    "\n",
    "def product3_leg(i,j,l):\n",
    "    #compute \\Phi_i*\\Phi_j*\\Phi_l\n",
    "    return lambda x: leg.legval(x, leg.legmul(leg.legmul(Phi(i),Phi(j)),Phi(l))) \n",
    "\n",
    "def inner3_leg(i,j,l):\n",
    "    '''\n",
    "    compute <\\Phi_i\\Phi_j\\Phi_l>    \n",
    "    Set up Gauss-Legendra quadrature\n",
    "    '''\n",
    "\n",
    "    x, w=leg.leggauss(20) \n",
    "    inner=sum([product3_leg(i,j,l)(x[idx]) * w[idx] for idx in range(20)])         \n",
    "    \n",
    "    return inner  "
   ]
  },
  {
   "cell_type": "code",
   "execution_count": 4,
   "metadata": {
    "ExecuteTime": {
     "end_time": "2021-07-01T02:52:18.599296Z",
     "start_time": "2021-07-01T02:52:18.582680Z"
    }
   },
   "outputs": [],
   "source": [
    "def ode_system_leg(y, t, P):   \n",
    "    '''P indicates highest order of Polynomial we use'''\n",
    "    dydt = np.zeros(P+1) \n",
    "    for l in range(len(dydt)):\n",
    "        dydt[l] = -(sum(sum(inner3_leg(i,j,l)*ki_leg[i]*y[j] for j in range(P+1)) for i in range(P+1)))/inner2_leg(l)\n",
    "    return dydt"
   ]
  },
  {
   "cell_type": "code",
   "execution_count": 5,
   "metadata": {
    "ExecuteTime": {
     "end_time": "2021-07-01T02:54:20.867929Z",
     "start_time": "2021-07-01T02:52:18.611556Z"
    }
   },
   "outputs": [],
   "source": [
    "P=5\n",
    "ki_leg = [0,1]+[0]*(P-1)\n",
    "sol_leg = odeint(ode_system_leg, [1.0]+[0.0]*P, np.linspace(0,1,101), args=(P,)) "
   ]
  },
  {
   "cell_type": "code",
   "execution_count": 6,
   "metadata": {
    "ExecuteTime": {
     "end_time": "2021-07-01T02:54:20.882384Z",
     "start_time": "2021-07-01T02:54:20.871119Z"
    }
   },
   "outputs": [],
   "source": [
    "def a(i):\n",
    "    return sol_leg[:,i][50]\n",
    "coef = np.array([a(0), a(1), a(2), a(3), a(4), a(5)])   #fixed\n",
    "\n",
    "def Q(i,x):\n",
    "    return leg.legval(x,coef[:(i+1)])\n",
    "\n",
    "def Qexact(x):\n",
    "    return np.exp(-x*0.5)"
   ]
  },
  {
   "cell_type": "code",
   "execution_count": 7,
   "metadata": {
    "ExecuteTime": {
     "end_time": "2021-07-01T02:54:21.603633Z",
     "start_time": "2021-07-01T02:54:20.890269Z"
    }
   },
   "outputs": [
    {
     "data": {
      "text/plain": [
       "<Figure size 576x432 with 0 Axes>"
      ]
     },
     "metadata": {},
     "output_type": "display_data"
    },
    {
     "data": {
      "application/vnd.jupyter.widget-view+json": {
       "model_id": "2574896372a54ee783ba4a101fb72cae",
       "version_major": 2,
       "version_minor": 0
      },
      "text/plain": [
       "interactive(children=(IntSlider(value=1, description='n', max=5, min=1), Output()), _dom_classes=('widget-inte…"
      ]
     },
     "metadata": {},
     "output_type": "display_data"
    },
    {
     "data": {
      "text/plain": [
       "<function __main__.plot_Qn(n)>"
      ]
     },
     "execution_count": 7,
     "metadata": {},
     "output_type": "execute_result"
    }
   ],
   "source": [
    "#### Use plot to show the difference between the exact and approximate map #####\n",
    "fig = plt.figure()\n",
    "\n",
    "def plot_Qn(n):\n",
    "    fig.clear()\n",
    "    x = np.linspace(-3,3,100)\n",
    "    y = Qexact(x)\n",
    "    yn = Q(n, x)\n",
    "    plt.plot(x,y,linestyle='-.',linewidth=4,label=\"$Q(\\lambda)$\")\n",
    "    plt.plot(x,yn,label='Q_'+str(n)+'$(\\lambda)$')\n",
    "    plt.xlabel('$\\Lambda$')\n",
    "    plt.legend();\n",
    "    \n",
    "interact(plot_Qn, \n",
    "         n = widgets.IntSlider(value=1,min=1,max=5,step=1))  "
   ]
  },
  {
   "cell_type": "markdown",
   "metadata": {},
   "source": [
    "## Forward Problem"
   ]
  },
  {
   "cell_type": "markdown",
   "metadata": {},
   "source": [
    "$\\lambda\\sim U([-1,1])$, QOI is the value at $t=0.5$ ($y(0.5)$). $Q_n$ defines the Polynomial Chaos expansion with degree $n$.\n",
    "\n",
    "$$\n",
    "Q(\\lambda)=y(0.5)=\\sum\\limits_{i=0}^{\\infty} y_i(0.5)\\Phi_i\n",
    "$$\n",
    "$$\n",
    "Q_n(\\lambda)=\\sum\\limits_{i=0}^n y_i(0.5)\\Phi_i\n",
    "$$\n",
    "\n",
    "Verify Result of Lemma 2:\n",
    "\n",
    "$Q_n(\\lambda)\\to Q(\\lambda)$ in $L^p(\\Lambda)$, if Assumptions 1 holds and $D_c\\subset\\mathcal{D}$ being compact, then \n",
    "\\begin{equation}\n",
    "\t\\pi_{\\mathcal{D}}^{Q_n}(q) \\to \\pi_{\\mathcal{D}}^{Q}(q) \\text{ almost in} {L^r(D_c)}   \n",
    "\\end{equation}\n",
    "\n",
    "Since $\\mathcal{D}$ is compact in this problem, we choose $D_c=\\mathcal{D}$.\n",
    "\n",
    "Verify Result of Theorem 3.1:\n",
    "\n",
    "$Q_n(\\lambda)\\to Q(\\lambda)$ in $L^p(\\Lambda)$, if Assumptions 1 holds, $\\{\\pi_{\\mathcal{D}}^{Q_n}\\}$ are uniformly integrable in $L^p(\\mathcal{D})$, $\\mathcal{D}$ is compact, then \n",
    "\\begin{equation}\n",
    "        \\pi_{\\mathcal{D}}^{Q_n}(Q_n(\\lambda)) \\to \\pi_{\\mathcal{D}}^{Q}(Q(\\lambda)) \\text{ in } L^p(\\Lambda) \n",
    "\\end{equation}"
   ]
  },
  {
   "cell_type": "markdown",
   "metadata": {},
   "source": [
    "### Verify Assumption 1"
   ]
  },
  {
   "cell_type": "code",
   "execution_count": 8,
   "metadata": {
    "ExecuteTime": {
     "end_time": "2021-07-01T02:55:11.479057Z",
     "start_time": "2021-07-01T02:54:21.614643Z"
    }
   },
   "outputs": [],
   "source": [
    "##### Generate data in Table 4 and 5 #####\n",
    "def assumption1(n,J):\n",
    "    np.random.seed(123456)\n",
    "    initial_sample = np.random.uniform(-1,1,size = J)\n",
    "    pfprior_sample_n = Q(n,initial_sample)\n",
    "    pfprior_dens_n = kde(pfprior_sample_n)\n",
    "    x = np.linspace(-1,3,1000)\n",
    "    return np.round(np.max(np.abs(np.gradient(pfprior_dens_n(x), x))), 2), np.round(np.max(pfprior_dens_n(x)),2)\n",
    "\n",
    "size_J = [int(1E3), int(1E4), int(1E5)]\n",
    "degree_n = [1, 2, 3, 4, 5]\n",
    "Bound_matrix, Lip_Bound_matrix = np.zeros((3,5)), np.zeros((3,5))\n",
    "for i in range(3):\n",
    "    for j in range(5):\n",
    "        n, J = degree_n[j], size_J[i]\n",
    "        Lip_Bound_matrix[i,j] = assumption1(n, J)[0]\n",
    "        Bound_matrix[i,j] = assumption1(n, J)[1]"
   ]
  },
  {
   "cell_type": "markdown",
   "metadata": {},
   "source": [
    "#### Table 4"
   ]
  },
  {
   "cell_type": "code",
   "execution_count": 9,
   "metadata": {
    "ExecuteTime": {
     "end_time": "2021-07-01T02:55:11.499740Z",
     "start_time": "2021-07-01T02:55:11.484312Z"
    }
   },
   "outputs": [
    {
     "name": "stdout",
     "output_type": "stream",
     "text": [
      "Table 4\n",
      "Bound under certain n and J values\n",
      "[[1.06 1.28 1.24 1.24 1.24]\n",
      " [1.03 1.49 1.42 1.42 1.42]\n",
      " [1.   1.61 1.49 1.5  1.5 ]]\n"
     ]
    }
   ],
   "source": [
    "###########################################\n",
    "################ Table 4 ##################\n",
    "###########################################\n",
    "print('Table 4')\n",
    "print('Bound under certain n and J values')\n",
    "print(Bound_matrix)"
   ]
  },
  {
   "cell_type": "markdown",
   "metadata": {},
   "source": [
    "#### Table 5"
   ]
  },
  {
   "cell_type": "code",
   "execution_count": 10,
   "metadata": {
    "ExecuteTime": {
     "end_time": "2021-07-01T02:55:11.515334Z",
     "start_time": "2021-07-01T02:55:11.505630Z"
    }
   },
   "outputs": [
    {
     "name": "stdout",
     "output_type": "stream",
     "text": [
      "Table 5\n",
      "Lipschitz bound under certain n and J values\n",
      "[[ 5.58  8.18  7.73  7.76  7.76]\n",
      " [ 8.4  14.18 12.97 13.05 13.05]\n",
      " [13.45 23.43 21.   21.22 21.21]]\n"
     ]
    }
   ],
   "source": [
    "###########################################\n",
    "################ Table 5 ##################\n",
    "###########################################\n",
    "print('Table 5')\n",
    "print('Lipschitz bound under certain n and J values')\n",
    "print(Lip_Bound_matrix)"
   ]
  },
  {
   "cell_type": "code",
   "execution_count": 11,
   "metadata": {
    "ExecuteTime": {
     "end_time": "2021-07-01T02:55:12.087646Z",
     "start_time": "2021-07-01T02:55:11.519679Z"
    }
   },
   "outputs": [
    {
     "data": {
      "text/plain": [
       "<Figure size 576x432 with 0 Axes>"
      ]
     },
     "metadata": {},
     "output_type": "display_data"
    },
    {
     "data": {
      "application/vnd.jupyter.widget-view+json": {
       "model_id": "c6e6b6a7bc3644edadc19427118c2bd7",
       "version_major": 2,
       "version_minor": 0
      },
      "text/plain": [
       "interactive(children=(IntSlider(value=1, description='n', max=5, min=1), IntSlider(value=1000, description='J'…"
      ]
     },
     "metadata": {},
     "output_type": "display_data"
    },
    {
     "data": {
      "text/plain": [
       "<function __main__.plot_pushforward(n, J)>"
      ]
     },
     "execution_count": 11,
     "metadata": {},
     "output_type": "execute_result"
    }
   ],
   "source": [
    "#### Use plot to show the difference between the exact pushforward and approximate pushforward #####\n",
    "fig=plt.figure()\n",
    "\n",
    "def plot_pushforward(n,J):\n",
    "    fig.clear()\n",
    "    np.random.seed(123456)\n",
    "    initial_sample = np.random.uniform(-1,1,size = J)\n",
    "    \n",
    "    pfprior_sample = Qexact(initial_sample)\n",
    "    pfprior_dens = kde(pfprior_sample)\n",
    "    \n",
    "    pfprior_sample_n = Q(n,initial_sample)\n",
    "    pfprior_dens_n = kde(pfprior_sample_n)\n",
    "    \n",
    "    fig.clear()\n",
    "    x = np.linspace(-1,3,1000)\n",
    "    y = pfprior_dens(x)\n",
    "    yn = pfprior_dens_n(x)\n",
    "    plt.plot(x,y,color='r', linestyle='-.', linewidth=4, label=\"$\\pi_{\\mathcal{D}}^Q$\")\n",
    "    plt.plot(x,yn,linewidth=2,label=\"$\\pi_{\\mathcal{D}}^{Q_{n}}$\")\n",
    "    plt.title('Lipschitz const. = %4.2f and Bound = %2.2f' %(np.max(np.abs(np.gradient(pfprior_dens_n(x), x))),\n",
    "                                                                             np.max(pfprior_dens_n(x))))\n",
    "    plt.xlabel(\"$\\mathcal{D}$\")\n",
    "    plt.legend()\n",
    "        \n",
    "interact(plot_pushforward, \n",
    "         n = widgets.IntSlider(value=1,min=1,max=5,step=1),\n",
    "         J = widgets.IntSlider(value=int(1E3),min=int(1E3),max=int(1E5),step=int(1E3)))"
   ]
  },
  {
   "cell_type": "markdown",
   "metadata": {},
   "source": [
    "### Verify Lemma 1\n",
    "**Print out Monte Carlo Approximation of $\t\\|\\pi_{\\mathcal{D}}^Q(q)-\\pi_{\\mathcal{D}}^{Q_n}(q)\\|_{L^r(\\mathcal{D_c})} $ where $r>0$ and $D_c=\\mathcal{D}$ because $\\mathcal{D}$ is compact.**"
   ]
  },
  {
   "cell_type": "code",
   "execution_count": 12,
   "metadata": {
    "ExecuteTime": {
     "end_time": "2021-07-01T02:55:12.108259Z",
     "start_time": "2021-07-01T02:55:12.096545Z"
    }
   },
   "outputs": [],
   "source": [
    "#Build $\\pi_D^Q$ and $\\pi_D^{Q,n}$, use 10,000 samples\n",
    "N_kde = int(1E4)\n",
    "N_mc = int(1E4)\n",
    "\n",
    "np.random.seed(123456)\n",
    "initial_sample = np.random.uniform(-1,1,size = N_kde)\n",
    "pfprior_sample = Qexact(initial_sample)\n",
    "pfprior_dens = kde(pfprior_sample)\n",
    "\n",
    "def pfprior_dens_n(n,x):\n",
    "    pfprior_sample_n = Q(n,initial_sample)\n",
    "    pdf = kde(pfprior_sample_n)\n",
    "    return pdf(x)"
   ]
  },
  {
   "cell_type": "code",
   "execution_count": 13,
   "metadata": {
    "ExecuteTime": {
     "end_time": "2021-07-01T02:56:38.326826Z",
     "start_time": "2021-07-01T02:55:12.112284Z"
    }
   },
   "outputs": [],
   "source": [
    "error_r_D = np.zeros((5,5))\n",
    "np.random.seed(123456)            \n",
    "qsample = np.random.uniform(np.exp(-0.5),np.exp(0.5),N_mc)\n",
    "\n",
    "for i in range(5):\n",
    "    for j in range(5):\n",
    "        error_r_D[i,j] = (np.mean((np.abs(pfprior_dens(qsample) - pfprior_dens_n(j+1,qsample)))**(i+1)))**(1/(i+1))"
   ]
  },
  {
   "cell_type": "code",
   "execution_count": 14,
   "metadata": {
    "ExecuteTime": {
     "end_time": "2021-07-01T02:56:38.339927Z",
     "start_time": "2021-07-01T02:56:38.329660Z"
    }
   },
   "outputs": [
    {
     "name": "stdout",
     "output_type": "stream",
     "text": [
      "L^r error on data space for Forward Problem\n",
      "\n",
      "[[1.94238726e-01 2.05042717e-02 1.47356406e-03 7.87288538e-05 3.59183884e-06]\n",
      " [2.22506150e-01 2.49390997e-02 1.76945246e-03 9.32066906e-05 4.07528839e-06]\n",
      " [2.44870659e-01 2.96231360e-02 2.02466852e-03 1.04710022e-04 4.44179886e-06]\n",
      " [2.63194738e-01 3.41497229e-02 2.25659747e-03 1.14385798e-04 4.75561998e-06]\n",
      " [2.78426119e-01 3.81183280e-02 2.46559182e-03 1.22601045e-04 5.03864501e-06]]\n"
     ]
    }
   ],
   "source": [
    "np.set_printoptions(linewidth=110)  \n",
    "print('L^r error on data space for Forward Problem',end='\\n\\n')\n",
    "print(error_r_D)        "
   ]
  },
  {
   "cell_type": "code",
   "execution_count": 15,
   "metadata": {
    "ExecuteTime": {
     "end_time": "2021-07-01T02:56:38.355427Z",
     "start_time": "2021-07-01T02:56:38.346026Z"
    }
   },
   "outputs": [],
   "source": [
    "#### To make it cleaner, create Directory \"images\" to store all the figures ####\n",
    "imagepath = os.path.join(os.getcwd(),\"images\")\n",
    "os.makedirs(imagepath,exist_ok=True)"
   ]
  },
  {
   "cell_type": "markdown",
   "metadata": {},
   "source": [
    "#### Left plot in Figure 2"
   ]
  },
  {
   "cell_type": "code",
   "execution_count": 41,
   "metadata": {
    "ExecuteTime": {
     "end_time": "2021-07-01T03:00:34.527277Z",
     "start_time": "2021-07-01T03:00:33.390922Z"
    },
    "scrolled": false
   },
   "outputs": [
    {
     "data": {
      "image/png": "[encoded data removed]",
      "text/plain": [
       "<Figure size 576x432 with 1 Axes>"
      ]
     },
     "metadata": {
      "needs_background": "light"
     },
     "output_type": "display_data"
    }
   ],
   "source": [
    "###########################################\n",
    "######### The left plot of Fig 2 ##########\n",
    "###########################################\n",
    "fig = plt.figure()\n",
    "plt.xlim([0,6])\n",
    "marker = ['-D', '-o', '-v', '-s', '-.']\n",
    "for i in range(5):\n",
    "    plt.semilogy([1,2,3,4,5],error_r_D[i,:],marker[i],label='r = ' + np.str(i+1))    \n",
    "plt.xlabel('Order of PCE (n)')\n",
    "plt.ylabel('$L^r$'+' Error in Push-Forward on '+'$\\mathcal{D}$')\n",
    "plt.legend();\n",
    "# fig.savefig(\"images/1forward_D_uniform.png\")\n",
    "fig.savefig(\"images/Fig2(Left).png\")"
   ]
  },
  {
   "cell_type": "markdown",
   "metadata": {},
   "source": [
    "### Verify Theorem 3.1\n",
    "**Print out Monte Carlo Approximation of $\t\\|\\pi_{\\mathcal{D}}^Q(Q(\\lambda))-\\pi_{\\mathcal{D}}^{Q_n}(Q_n(\\lambda))\\|_{L^2(\\Lambda)} $**"
   ]
  },
  {
   "cell_type": "code",
   "execution_count": 17,
   "metadata": {
    "ExecuteTime": {
     "end_time": "2021-07-01T02:56:55.255380Z",
     "start_time": "2021-07-01T02:56:39.055331Z"
    }
   },
   "outputs": [],
   "source": [
    "##### Generate data for the right plot of Fig 2 #####\n",
    "np.random.seed(123456)       \n",
    "lamsample = np.random.uniform(-1,1,size = N_mc)\n",
    "\n",
    "error_2 = np.zeros(5)\n",
    "for i in range(5):\n",
    "    error_2[i] = (np.mean((np.abs(pfprior_dens(Qexact(lamsample)) - pfprior_dens_n(i+1,Q(i+1,lamsample))))**2))**(1/2)     "
   ]
  },
  {
   "cell_type": "code",
   "execution_count": 18,
   "metadata": {
    "ExecuteTime": {
     "end_time": "2021-07-01T02:56:55.268830Z",
     "start_time": "2021-07-01T02:56:55.258297Z"
    }
   },
   "outputs": [
    {
     "name": "stdout",
     "output_type": "stream",
     "text": [
      "L^2 error on parameter space for Forward Problem\n",
      "\n",
      "[2.42452472e-01 3.51921960e-02 2.34712105e-03 1.20430887e-04 4.89385277e-06]\n"
     ]
    }
   ],
   "source": [
    "np.set_printoptions(linewidth=110)   \n",
    "print('L^2 error on parameter space for Forward Problem',end='\\n\\n')\n",
    "print(error_2)"
   ]
  },
  {
   "cell_type": "markdown",
   "metadata": {},
   "source": [
    "#### Right plot in Figure 2"
   ]
  },
  {
   "cell_type": "code",
   "execution_count": 19,
   "metadata": {
    "ExecuteTime": {
     "end_time": "2021-07-01T02:56:56.074871Z",
     "start_time": "2021-07-01T02:56:55.274698Z"
    }
   },
   "outputs": [
    {
     "data": {
      "image/png": "[encoded data removed]",
      "text/plain": [
       "<Figure size 576x432 with 1 Axes>"
      ]
     },
     "metadata": {
      "needs_background": "light"
     },
     "output_type": "display_data"
    }
   ],
   "source": [
    "############################################\n",
    "######### The right plot of Fig 2 ##########\n",
    "############################################\n",
    "fig = plt.figure()\n",
    "plt.xlim([0,6])\n",
    "plt.semilogy([1,2,3,4,5],error_2,'-s')   \n",
    "plt.xlabel('Order of PCE (n)')\n",
    "plt.ylabel('$L^2$'+' Error in Push-Forward on '+'$\\Lambda$');\n",
    "# fig.savefig(\"images/1forward_Lam_uniform.png\")\n",
    "fig.savefig(\"images/Fig2(Right).png\")"
   ]
  },
  {
   "cell_type": "markdown",
   "metadata": {},
   "source": [
    "## Inverse Problem"
   ]
  },
  {
   "cell_type": "markdown",
   "metadata": {},
   "source": [
    "Initial guess is $\\lambda\\sim U([-1,1])$. \n",
    "\n",
    "Observation is $\\pi_{\\mathcal{D}}\\sim Beta(4,4)$ with location and scale parameters chosen to be on $[1,1.25]$.\n",
    "\n",
    "Verify Result of Theorem 4.2:\n",
    "\n",
    "$Q_n(\\lambda)\\to Q(\\lambda)$ in $L^p(\\Lambda)$, $\\pi_{\\Lambda}^i\\in L^p(\\mathcal{D})$. If Assumptions 1, 2 hold, $\\{\\pi_{\\mathcal{D}}^{Q_n}\\}$ are uniformly integrable in $L^p(\\mathcal{D})$, then \n",
    "\\begin{equation}\n",
    "        \\pi_{\\Lambda}^{u,n}(\\lambda) \\to \\pi_{\\Lambda}^{u}(\\lambda) \\text{ in } L^p(\\Lambda) \n",
    "\\end{equation}"
   ]
  },
  {
   "cell_type": "code",
   "execution_count": 20,
   "metadata": {
    "ExecuteTime": {
     "end_time": "2021-07-01T02:56:56.092364Z",
     "start_time": "2021-07-01T02:56:56.083357Z"
    }
   },
   "outputs": [],
   "source": [
    "def pdf_obs(x):\n",
    "    return beta.pdf(x, a=4, b=4, loc=1, scale=0.25)"
   ]
  },
  {
   "cell_type": "code",
   "execution_count": 21,
   "metadata": {
    "ExecuteTime": {
     "end_time": "2021-07-01T02:56:56.927823Z",
     "start_time": "2021-07-01T02:56:56.101179Z"
    }
   },
   "outputs": [
    {
     "data": {
      "image/png": "[encoded data removed]",
      "text/plain": [
       "<Figure size 576x432 with 1 Axes>"
      ]
     },
     "metadata": {
      "needs_background": "light"
     },
     "output_type": "display_data"
    }
   ],
   "source": [
    "#### Use plot to show the difference between the pushforward of the init and the observed #####\n",
    "fig = plt.figure()\n",
    "xx = np.linspace(-1,3,1000)\n",
    "y = pdf_obs(xx)\n",
    "y_pf = pfprior_dens(xx)\n",
    "plt.plot(xx,y,label=\"$\\pi_{\\mathcal{D}}^{obs}$\")\n",
    "plt.plot(xx,y_pf, label=\"$\\pi_{\\mathcal{D}}^{Q(init)}$\")\n",
    "plt.xlabel(\"$\\mathcal{D}$\")\n",
    "plt.legend();"
   ]
  },
  {
   "cell_type": "markdown",
   "metadata": {},
   "source": [
    "### Verify Assumption 2"
   ]
  },
  {
   "cell_type": "code",
   "execution_count": 22,
   "metadata": {
    "ExecuteTime": {
     "end_time": "2021-07-01T02:57:08.488739Z",
     "start_time": "2021-07-01T02:56:56.937190Z"
    }
   },
   "outputs": [],
   "source": [
    "def Meanr(n):\n",
    "    pfprior_sample_n = Q(n,initial_sample)\n",
    "    if n==0:\n",
    "        r = pdf_obs(pfprior_sample)/pfprior_dens(pfprior_sample)\n",
    "    else:\n",
    "        r = pdf_obs(pfprior_sample_n)/pfprior_dens_n(n,pfprior_sample_n)\n",
    "    return np.mean(r)\n",
    " \n",
    "\n",
    "def pdf_update(n,x):\n",
    "    if n==0:\n",
    "        r = pdf_obs(pfprior_sample)/pfprior_dens(pfprior_sample)\n",
    "        pdf = kde(initial_sample,weights=r)\n",
    "    else:\n",
    "        pfprior_sample_n = Q(n,initial_sample)\n",
    "#         pfprior_dens_n = kde(pfprior_sample_n)\n",
    "        r = pdf_obs(pfprior_sample_n)/pfprior_dens_n(n,pfprior_sample_n)\n",
    "        pdf = kde(initial_sample,weights=r)\n",
    "    return pdf(x)\n",
    "\n",
    "Expect_r = np.zeros(6)\n",
    "for i in range(6):\n",
    "    Expect_r[i] = Meanr(i)"
   ]
  },
  {
   "cell_type": "markdown",
   "metadata": {},
   "source": [
    "#### Table 6"
   ]
  },
  {
   "cell_type": "code",
   "execution_count": 23,
   "metadata": {
    "ExecuteTime": {
     "end_time": "2021-07-01T02:57:08.504749Z",
     "start_time": "2021-07-01T02:57:08.497702Z"
    }
   },
   "outputs": [
    {
     "name": "stdout",
     "output_type": "stream",
     "text": [
      "Table 6\n",
      "Expected ratio for verifying Assumption 2\n",
      "[1.00342642 0.97855489 0.97788712 0.97809176 0.97809595]\n"
     ]
    }
   ],
   "source": [
    "###########################################\n",
    "################ Table 6 ##################\n",
    "###########################################\n",
    "print('Table 6')\n",
    "print('Expected ratio for verifying Assumption 2')\n",
    "print(Expect_r[1:])"
   ]
  },
  {
   "cell_type": "code",
   "execution_count": 24,
   "metadata": {
    "ExecuteTime": {
     "end_time": "2021-07-01T02:57:12.383809Z",
     "start_time": "2021-07-01T02:57:08.511097Z"
    }
   },
   "outputs": [
    {
     "data": {
      "text/plain": [
       "<Figure size 576x432 with 0 Axes>"
      ]
     },
     "metadata": {},
     "output_type": "display_data"
    },
    {
     "data": {
      "application/vnd.jupyter.widget-view+json": {
       "model_id": "30ebfe2f829c4006965a488344a9e0a4",
       "version_major": 2,
       "version_minor": 0
      },
      "text/plain": [
       "interactive(children=(IntSlider(value=1, description='n', max=5, min=1), Output()), _dom_classes=('widget-inte…"
      ]
     },
     "metadata": {},
     "output_type": "display_data"
    },
    {
     "data": {
      "text/plain": [
       "<function __main__.plot_update(n)>"
      ]
     },
     "execution_count": 24,
     "metadata": {},
     "output_type": "execute_result"
    }
   ],
   "source": [
    "#### Use plot to show the difference between the initial, updated, approximate updated #####\n",
    "fig=plt.figure()\n",
    "\n",
    "def plot_update(n):\n",
    "    fig.clear()\n",
    "    xx = np.linspace(-1.1,1.1,100)\n",
    "    plt.plot(xx, uniform.pdf(xx, loc=-1, scale=2), label=\"Initial Density\")\n",
    "    plt.plot(xx, pdf_update(0,xx), label=\"$\\pi_{\\Lambda}^u$\")\n",
    "    plt.plot(xx, pdf_update(n,xx), label=\"$\\pi_{\\Lambda}^{u,n}$, n=\"+str(n))\n",
    "    plt.legend()\n",
    "    plt.xlabel(\"$\\Lambda$\")\n",
    "    plt.title('$\\mathbb{E}(r) =$ %3.2f' %(Expect_r[n]));\n",
    "    \n",
    "interact(plot_update, \n",
    "         n = widgets.IntSlider(value=int(1),min=int(1),max=int(5),step=1))"
   ]
  },
  {
   "cell_type": "code",
   "execution_count": 25,
   "metadata": {
    "ExecuteTime": {
     "end_time": "2021-07-01T02:57:20.401431Z",
     "start_time": "2021-07-01T02:57:12.389456Z"
    }
   },
   "outputs": [
    {
     "data": {
      "image/png": "[encoded data removed]",
      "text/plain": [
       "<Figure size 576x432 with 1 Axes>"
      ]
     },
     "metadata": {
      "needs_background": "light"
     },
     "output_type": "display_data"
    }
   ],
   "source": [
    "#### Use plot to show the difference between the observed and the pushforward of the approximate updated pdf #####\n",
    "def update_pushforward(n,x):\n",
    "    pfprior_sample_n = Q(n,initial_sample)\n",
    "    r = pdf_obs(pfprior_sample_n)/pfprior_dens_n(n,pfprior_sample_n)\n",
    "    pdf = kde(pfprior_sample_n,weights=r)\n",
    "    return pdf(x)\n",
    "\n",
    "fig = plt.figure()\n",
    "xx = np.linspace(-1,3,100)\n",
    "y = pdf_obs(xx)\n",
    "plt.plot(xx,y,label=\"$\\pi_{\\mathcal{D}}^{obs}$\")\n",
    "for i in range(1,6,1):\n",
    "    y_pf = update_pushforward(i,xx)\n",
    "    plt.plot(xx,y_pf, label=\"n=\"+str(i))\n",
    "plt.xlabel(\"$\\mathcal{D}$\")\n",
    "plt.legend();"
   ]
  },
  {
   "cell_type": "markdown",
   "metadata": {},
   "source": [
    "### Verify Theorem 4.2\n",
    "\n",
    "Print out Monte Carlo Approximation of $\\|\\pi_{\\Lambda}^{u,n}(\\lambda)-\\pi_{\\Lambda}^u(\\lambda)\\|_{L^2(\\Lambda)} $ "
   ]
  },
  {
   "cell_type": "code",
   "execution_count": 26,
   "metadata": {
    "ExecuteTime": {
     "end_time": "2021-07-01T02:58:02.721388Z",
     "start_time": "2021-07-01T02:57:20.406280Z"
    }
   },
   "outputs": [],
   "source": [
    "##### Generate data for Fig 3 #####\n",
    "np.random.seed(123456)     \n",
    "lamsample = np.random.uniform(-1,1,size = N_mc)\n",
    "\n",
    "error_update = np.zeros(5)\n",
    "for i in range(5):\n",
    "    error_update[i] = (np.mean((np.abs(pdf_update(0,lamsample) - pdf_update(i+1,lamsample)))**2))**(1/2)"
   ]
  },
  {
   "cell_type": "code",
   "execution_count": 27,
   "metadata": {
    "ExecuteTime": {
     "end_time": "2021-07-01T02:58:02.736017Z",
     "start_time": "2021-07-01T02:58:02.724969Z"
    }
   },
   "outputs": [
    {
     "name": "stdout",
     "output_type": "stream",
     "text": [
      "L^2 Error for Inverse Problem\n",
      "\n",
      "[7.93989864e-01 6.16431006e-02 3.38614091e-03 2.52824991e-04 6.91016768e-06]\n"
     ]
    }
   ],
   "source": [
    "np.set_printoptions(linewidth=110)\n",
    "print('L^2 Error for Inverse Problem',end='\\n\\n')\n",
    "print(error_update)      "
   ]
  },
  {
   "cell_type": "markdown",
   "metadata": {},
   "source": [
    "#### Figure 3"
   ]
  },
  {
   "cell_type": "code",
   "execution_count": 28,
   "metadata": {
    "ExecuteTime": {
     "end_time": "2021-07-01T02:58:03.532534Z",
     "start_time": "2021-07-01T02:58:02.741261Z"
    }
   },
   "outputs": [
    {
     "data": {
      "image/png": "[encoded data removed]",
      "text/plain": [
       "<Figure size 576x432 with 1 Axes>"
      ]
     },
     "metadata": {
      "needs_background": "light"
     },
     "output_type": "display_data"
    }
   ],
   "source": [
    "###########################################\n",
    "################ Figure 3 #################\n",
    "###########################################\n",
    "fig = plt.figure()\n",
    "plt.xlim([0,6])\n",
    "plt.semilogy([1,2,3,4,5],error_update,'-s')   \n",
    "plt.xlabel('Order of PCE (n)')\n",
    "plt.ylabel('$L^2$'+' Error in Update');\n",
    "# fig.savefig(\"images/1inverse_error_uniform.png\")\n",
    "fig.savefig(\"images/Fig3.png\")"
   ]
  }
 ],
 "metadata": {
  "kernelspec": {
   "display_name": "Python 3",
   "language": "python",
   "name": "python3"
  },
  "language_info": {
   "codemirror_mode": {
    "name": "ipython",
    "version": 3
   },
   "file_extension": ".py",
   "mimetype": "text/x-python",
   "name": "python",
   "nbconvert_exporter": "python",
   "pygments_lexer": "ipython3",
   "version": "3.6.7"
  },
  "latex_envs": {
   "LaTeX_envs_menu_present": true,
   "autoclose": false,
   "autocomplete": true,
   "bibliofile": "biblio.bib",
   "cite_by": "apalike",
   "current_citInitial": 1,
   "eqLabelWithNumbers": true,
   "eqNumInitial": 1,
   "hotkeys": {
    "equation": "Ctrl-E",
    "itemize": "Ctrl-I"
   },
   "labels_anchors": false,
   "latex_user_defs": false,
   "report_style_numbering": false,
   "user_envs_cfg": false
  },
  "toc": {
   "base_numbering": 1,
   "nav_menu": {},
   "number_sections": true,
   "sideBar": true,
   "skip_h1_title": false,
   "title_cell": "Table of Contents",
   "title_sidebar": "Contents",
   "toc_cell": false,
   "toc_position": {},
   "toc_section_display": true,
   "toc_window_display": false
  },
  "varInspector": {
   "cols": {
    "lenName": 16,
    "lenType": 16,
    "lenVar": 40
   },
   "kernels_config": {
    "python": {
     "delete_cmd_postfix": "",
     "delete_cmd_prefix": "del ",
     "library": "var_list.py",
     "varRefreshCmd": "print(var_dic_list())"
    },
    "r": {
     "delete_cmd_postfix": ") ",
     "delete_cmd_prefix": "rm(",
     "library": "var_list.r",
     "varRefreshCmd": "cat(var_dic_list()) "
    }
   },
   "types_to_exclude": [
    "module",
    "function",
    "builtin_function_or_method",
    "instance",
    "_Feature"
   ],
   "window_display": false
  }
 },
 "nbformat": 4,
 "nbformat_minor": 4
}
