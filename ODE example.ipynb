{
 "cells": [
  {
   "cell_type": "markdown",
   "metadata": {},
   "source": [
    "########################################################\n",
    "### This file is used to generate Table 4-6, Fig 2-3 ###\n",
    "########################################################\n",
    "\n",
    "- [Forward Problem](#Forward-Problem)\n",
    "    - [Verify Assumption 1](#Verify-Assumption-1)\n",
    "        - [Table 4](#Table-4)\n",
    "        - [Table 5](#Table-5)\n",
    "    - [Verify Lemma 1](#Verify-Lemma-1)\n",
    "        - [Left plot in Figure 2](#Left-plot-in-Figure-2)\n",
    "    - [Verify Theorem 3.1](#Verify-Theorem-3.1)\n",
    "        - [Right plot in Figure 2](#Right-plot-in-Figure-2)\n",
    "- [Inverse Problem](#Inverse-Problem)\n",
    "    - [Verify Assumption 2](#Verify-Assumption-2)\n",
    "        - [Table 6](#Table-6)\n",
    "    - [Verify Theorem 4.2](#Verify-Theorem-4.2)\n",
    "        - [Figure 3](#Figure-3)"
   ]
  },
  {
   "cell_type": "code",
   "execution_count": 1,
   "metadata": {
    "ExecuteTime": {
     "end_time": "2019-11-22T20:35:24.769188Z",
     "start_time": "2019-11-22T20:35:24.216681Z"
    }
   },
   "outputs": [],
   "source": [
    "import os\n",
    "import numpy as np\n",
    "import numpy.polynomial.hermite_e as H \n",
    "from scipy.stats import norm\n",
    "from math import factorial\n",
    "from scipy.integrate import odeint\n",
    "from scipy.stats import gaussian_kde as kde\n",
    "from ipywidgets import interact, interactive, fixed, interact_manual\n",
    "import ipywidgets as widgets\n",
    "\n",
    "from matplotlib import pyplot as plt\n",
    "%matplotlib inline"
   ]
  },
  {
   "cell_type": "code",
   "execution_count": 2,
   "metadata": {},
   "outputs": [],
   "source": [
    "####### Plot Formatting ######\n",
    "plt.rc('lines', linewidth = 2)\n",
    "plt.rc('xtick', labelsize = 14)\n",
    "plt.rc('ytick', labelsize = 14)\n",
    "plt.rc('legend',fontsize=14)\n",
    "plt.rcParams[\"font.family\"] = \"serif\"\n",
    "plt.rcParams['axes.labelsize'] = 20\n",
    "plt.rcParams['axes.titlesize'] = 12\n",
    "plt.rcParams['lines.markersize'] = 8\n",
    "plt.rcParams['figure.figsize'] = (8.0, 6.0)"
   ]
  },
  {
   "cell_type": "markdown",
   "metadata": {},
   "source": [
    "# Example from Xiu2002\n",
    "\n",
    "$$ \\frac{dy(t)}{dt} = -\\lambda y, \\ \\  y(0)=1 $$\n",
    "$$ y(t) = e^{-\\lambda t} $$\n",
    "$$QoI = y(0.5)$$\n",
    "$\\Lambda = (-\\infty, \\infty)$, $\\mathcal{D}=(0,\\infty)$"
   ]
  },
  {
   "cell_type": "code",
   "execution_count": 3,
   "metadata": {
    "ExecuteTime": {
     "end_time": "2019-11-22T20:35:26.834019Z",
     "start_time": "2019-11-22T20:35:26.819378Z"
    }
   },
   "outputs": [],
   "source": [
    "def Phi(n):\n",
    "    '''Define H_n'''\n",
    "    coeffs = [0]*(n+1)\n",
    "    coeffs[n] = 1\n",
    "    return coeffs\n",
    "\n",
    "def inner2_herm(n):       \n",
    "    return np.sqrt(2*np.pi)*factorial(n)\n",
    "\n",
    "def product3_herm(i,j,l):\n",
    "    #compute \\Phi_i*\\Phi_j*\\Phi_l\n",
    "    return lambda x: H.hermeval(x, H.hermemul(H.hermemul(Phi(i),Phi(j)),Phi(l))) \n",
    "\n",
    "def inner3_herm(i,j,l):\n",
    "    '''\n",
    "    compute <\\Phi_i\\Phi_j\\Phi_l>    \n",
    "    Set up Gauss-Hermite quadrature, weighting function is exp^{-x^2}\n",
    "    '''\n",
    "\n",
    "    x, w=H.hermegauss(20) \n",
    "    inner=sum([product3_herm(i,j,l)(x[idx]) * w[idx] for idx in range(20)])         \n",
    "    \n",
    "    return inner  "
   ]
  },
  {
   "cell_type": "code",
   "execution_count": 4,
   "metadata": {
    "ExecuteTime": {
     "end_time": "2019-11-22T20:35:26.884821Z",
     "start_time": "2019-11-22T20:35:26.879499Z"
    }
   },
   "outputs": [],
   "source": [
    "def ode_system_herm(y, t, P):   \n",
    "    '''P indicates highest order of Polynomial we use'''\n",
    "    dydt = np.zeros(P+1) \n",
    "    for l in range(len(dydt)):\n",
    "        dydt[l] = -(sum(sum(inner3_herm(i,j,l)*ki_herm[i]*y[j] for j in range(P+1)) for i in range(P+1)))/inner2_herm(l)\n",
    "    return dydt"
   ]
  },
  {
   "cell_type": "code",
   "execution_count": 5,
   "metadata": {
    "ExecuteTime": {
     "end_time": "2019-11-22T20:37:35.650488Z",
     "start_time": "2019-11-22T20:35:26.886870Z"
    }
   },
   "outputs": [],
   "source": [
    "P=5\n",
    "ki_herm = [0,1]+[0]*(P-1)\n",
    "sol_herm = odeint(ode_system_herm, [1.0]+[0.0]*P, np.linspace(0,1,101), args=(P,)) "
   ]
  },
  {
   "cell_type": "code",
   "execution_count": 6,
   "metadata": {
    "ExecuteTime": {
     "end_time": "2019-11-22T20:37:35.662413Z",
     "start_time": "2019-11-22T20:37:35.655191Z"
    }
   },
   "outputs": [],
   "source": [
    "def a(i):\n",
    "    return sol_herm[:,i][50]\n",
    "coef = np.array([a(0), a(1), a(2), a(3), a(4), a(5)])   #fixed\n",
    "\n",
    "def Q(i,x):\n",
    "    return H.hermeval(x,coef[:(i+1)])\n",
    "\n",
    "def Qexact(x):\n",
    "    return np.exp(-x*0.5)"
   ]
  },
  {
   "cell_type": "code",
   "execution_count": 7,
   "metadata": {
    "ExecuteTime": {
     "end_time": "2019-11-22T20:37:36.062230Z",
     "start_time": "2019-11-22T20:37:35.664887Z"
    }
   },
   "outputs": [
    {
     "data": {
      "text/plain": [
       "<Figure size 576x432 with 0 Axes>"
      ]
     },
     "metadata": {},
     "output_type": "display_data"
    },
    {
     "data": {
      "application/vnd.jupyter.widget-view+json": {
       "model_id": "53bfb22460ec4973ac85c318f8d9de81",
       "version_major": 2,
       "version_minor": 0
      },
      "text/plain": [
       "interactive(children=(IntSlider(value=1, description='n', max=5, min=1), Output()), _dom_classes=('widget-inte…"
      ]
     },
     "metadata": {},
     "output_type": "display_data"
    }
   ],
   "source": [
    "#### Use plot to show the difference between the exact and approximate map #####\n",
    "fig = plt.figure()\n",
    "\n",
    "def plot_Qn(n):\n",
    "    fig.clear()\n",
    "    x = np.linspace(-3,3,100)\n",
    "    y = Qexact(x)\n",
    "    yn = Q(n, x)\n",
    "    plt.plot(x,y,linestyle='-.',linewidth=4,label=\"$Q(\\lambda)$\")\n",
    "    plt.plot(x,yn,label='Q_'+str(n)+'$(\\lambda)$')\n",
    "    plt.xlabel('$\\Lambda$')\n",
    "    plt.legend();\n",
    "    \n",
    "interact(plot_Qn, \n",
    "         n = widgets.IntSlider(value=1,min=1,max=5,step=1));"
   ]
  },
  {
   "cell_type": "markdown",
   "metadata": {},
   "source": [
    "## Forward Problem"
   ]
  },
  {
   "cell_type": "markdown",
   "metadata": {},
   "source": [
    "$\\lambda\\sim N(0,1)$, QOI is the value at $t=0.5$ ($y(0.5)$). $Q_n$ defines the Polynomial Chaos expansion with degree $n$.\n",
    "\n",
    "$$\n",
    "Q(\\lambda)=y(0.5)=\\sum\\limits_{i=0}^{\\infty} y_i(0.5)\\Phi_i\n",
    "$$\n",
    "$$\n",
    "Q_n(\\lambda)=\\sum\\limits_{i=0}^n y_i(0.5)\\Phi_i\n",
    "$$\n",
    "\n",
    "Verify Result of Lemma 2:\n",
    "\n",
    "$Q_n(\\lambda)\\to Q(\\lambda)$ in $L^p(\\Lambda)$, if Assumptions 1 holds and $D_c\\subset\\mathcal{D}$ being compact, then \n",
    "\\begin{equation}\n",
    "\t\\pi_{\\mathcal{D}}^{Q_n}(q) \\to \\pi_{\\mathcal{D}}^{Q}(q) \\text{ almost in} {L^r(D_c)}   \n",
    "\\end{equation}\n",
    "\n",
    "Verify Result of Theorem 3.1:\n",
    "\n",
    "$Q_n(\\lambda)\\to Q(\\lambda)$ in $L^p(\\Lambda)$, if Assumptions 1 holds, $\\{\\pi_{\\mathcal{D}}^{Q_n}\\}$ are uniformly integrable in $L^p(\\mathcal{D})$, $\\mathcal{D}$ is compact, then \n",
    "\\begin{equation}\n",
    "        \\pi_{\\mathcal{D}}^{Q_n}(Q_n(\\lambda)) \\to \\pi_{\\mathcal{D}}^{Q}(Q(\\lambda)) \\text{ in } L^p(\\Lambda) \n",
    "\\end{equation}"
   ]
  },
  {
   "cell_type": "markdown",
   "metadata": {},
   "source": [
    "### Verify Assumption 1"
   ]
  },
  {
   "cell_type": "code",
   "execution_count": 8,
   "metadata": {},
   "outputs": [],
   "source": [
    "##### Generate data in Table 4 and 5 #####\n",
    "def assumption1(n, J):\n",
    "    np.random.seed(123456)\n",
    "    initial_sample = np.random.normal(size=J)\n",
    "    pfprior_sample_n = Q(n, initial_sample)\n",
    "    pfprior_dens_n = kde(pfprior_sample_n)\n",
    "    x = np.linspace(-1, 4.5, 1000)\n",
    "    return np.round(np.max(np.abs(np.gradient(pfprior_dens_n(x), x))), 2), np.round(np.max(pfprior_dens_n(x)), 2)\n",
    "\n",
    "size_J = [int(1E3), int(1E4), int(1E5)]\n",
    "degree_n = [1, 2, 3, 4, 5]\n",
    "Bound_matrix, Lip_Bound_matrix = np.zeros((3, 5)), np.zeros((3, 5))\n",
    "for i in range(3):\n",
    "    for j in range(5):\n",
    "        n, J = degree_n[j], size_J[i]\n",
    "        Lip_Bound_matrix[i, j] = assumption1(n, J)[0]\n",
    "        Bound_matrix[i, j] = assumption1(n, J)[1]"
   ]
  },
  {
   "cell_type": "markdown",
   "metadata": {},
   "source": [
    "#### Table 4"
   ]
  },
  {
   "cell_type": "code",
   "execution_count": 9,
   "metadata": {},
   "outputs": [
    {
     "name": "stdout",
     "output_type": "stream",
     "text": [
      "Table 4\n",
      "Bound under certain n and J values\n",
      "[[0.71 0.84 0.89 0.87 0.86]\n",
      " [0.71 0.87 0.9  0.87 0.86]\n",
      " [0.7  0.92 0.94 0.9  0.9 ]]\n"
     ]
    }
   ],
   "source": [
    "###########################################\n",
    "################ Table 4 ##################\n",
    "###########################################\n",
    "print('Table 4')\n",
    "print('Bound under certain n and J values')\n",
    "print(Bound_matrix)"
   ]
  },
  {
   "cell_type": "markdown",
   "metadata": {},
   "source": [
    "#### Table 5"
   ]
  },
  {
   "cell_type": "code",
   "execution_count": 10,
   "metadata": {},
   "outputs": [
    {
     "name": "stdout",
     "output_type": "stream",
     "text": [
      "Table 5\n",
      "Lipschitz bound under certain n and J values\n",
      "[[0.88 2.09 1.76 1.6  1.62]\n",
      " [0.84 4.07 2.49 2.14 2.21]\n",
      " [0.81 7.01 2.74 2.22 2.32]]\n"
     ]
    }
   ],
   "source": [
    "###########################################\n",
    "################ Table 5 ##################\n",
    "###########################################\n",
    "print('Table 5')\n",
    "print('Lipschitz bound under certain n and J values')\n",
    "print(Lip_Bound_matrix)"
   ]
  },
  {
   "cell_type": "code",
   "execution_count": 11,
   "metadata": {
    "ExecuteTime": {
     "end_time": "2019-11-22T20:37:36.885040Z",
     "start_time": "2019-11-22T20:37:36.467179Z"
    }
   },
   "outputs": [
    {
     "data": {
      "text/plain": [
       "<Figure size 576x432 with 0 Axes>"
      ]
     },
     "metadata": {},
     "output_type": "display_data"
    },
    {
     "data": {
      "application/vnd.jupyter.widget-view+json": {
       "model_id": "3640855c34d944838a8b9c3d8f269dad",
       "version_major": 2,
       "version_minor": 0
      },
      "text/plain": [
       "interactive(children=(IntSlider(value=1, description='n', max=5, min=1), IntSlider(value=1000, description='J'…"
      ]
     },
     "metadata": {},
     "output_type": "display_data"
    },
    {
     "data": {
      "text/plain": [
       "<function __main__.plot_pushforward(n, J)>"
      ]
     },
     "execution_count": 11,
     "metadata": {},
     "output_type": "execute_result"
    }
   ],
   "source": [
    "#### Use plot to show the difference between the exact pushforward and approximate pushforward #####\n",
    "fig=plt.figure()\n",
    "\n",
    "def plot_pushforward(n,J):\n",
    "    np.random.seed(123456)\n",
    "    initial_sample = np.random.normal(size = J)\n",
    "    \n",
    "    pfprior_sample = Qexact(initial_sample)\n",
    "    pfprior_dens = kde(pfprior_sample)\n",
    "    \n",
    "    pfprior_sample_n = Q(n,initial_sample)\n",
    "    pfprior_dens_n = kde(pfprior_sample_n)\n",
    "    \n",
    "    fig.clear()\n",
    "    x = np.linspace(-1,4.5,1000)\n",
    "    y = pfprior_dens(x)\n",
    "    yn = pfprior_dens_n(x)\n",
    "    plt.plot(x,y,color='r', linestyle='-.', linewidth=4, label=\"$\\pi_{\\mathcal{D}}^Q$\")\n",
    "    plt.plot(x,yn,linewidth=2,label=\"$\\pi_{\\mathcal{D}}^{Q_{n}}$\")\n",
    "    plt.title('Lipschitz const. = %4.2f and Bound = %2.2f' %(np.max(np.abs(np.gradient(pfprior_dens_n(x), x))),\n",
    "                                                                             np.max(pfprior_dens_n(x))))\n",
    "    plt.xlabel(\"$\\mathcal{D}$\")\n",
    "    plt.legend();\n",
    "        \n",
    "interact(plot_pushforward, \n",
    "         n = widgets.IntSlider(value=1,min=1,max=5,step=1),\n",
    "         J = widgets.IntSlider(value=int(1E3),min=int(1E3),max=int(1E5),step=int(1E3)))"
   ]
  },
  {
   "cell_type": "markdown",
   "metadata": {},
   "source": [
    "### Verify Lemma 1\n",
    "**Print out Monte Carlo Approximation of $\t\\|\\pi_{\\mathcal{D}}^Q(q)-\\pi_{\\mathcal{D}}^{Q_n}(q)\\|_{L^r(\\mathcal{D_c})} $ where $r>0$ and $D_c=[1,4]$**"
   ]
  },
  {
   "cell_type": "code",
   "execution_count": 12,
   "metadata": {
    "ExecuteTime": {
     "end_time": "2019-11-22T20:37:36.894366Z",
     "start_time": "2019-11-22T20:37:36.887398Z"
    }
   },
   "outputs": [],
   "source": [
    "#Build $\\pi_D^Q$ and $\\pi_D^{Q,n}$, use 10,000 samples\n",
    "N_kde = int(1E4)\n",
    "N_mc = int(1E4)\n",
    "np.random.seed(123456)\n",
    "initial_sample = np.random.normal(size = N_kde)\n",
    "pfprior_sample = Qexact(initial_sample)\n",
    "pfprior_dens = kde(pfprior_sample)\n",
    "\n",
    "def pfprior_dens_n(n,x):\n",
    "    pfprior_sample_n = Q(n,initial_sample)\n",
    "    pdf = kde(pfprior_sample_n)\n",
    "    return pdf(x)"
   ]
  },
  {
   "cell_type": "code",
   "execution_count": 13,
   "metadata": {
    "ExecuteTime": {
     "end_time": "2019-11-22T20:39:29.773496Z",
     "start_time": "2019-11-22T20:37:36.896527Z"
    }
   },
   "outputs": [],
   "source": [
    "error_r_D = np.zeros((5,5))\n",
    "np.random.seed(123456)            \n",
    "qsample = np.random.uniform(1,4,N_mc)\n",
    "for i in range(5):\n",
    "    for j in range(5):\n",
    "        error_r_D[i,j] = (np.mean((np.abs(pfprior_dens(qsample) - pfprior_dens_n(j+1,qsample)))**(i+1)))**(1/(i+1))"
   ]
  },
  {
   "cell_type": "code",
   "execution_count": 14,
   "metadata": {
    "ExecuteTime": {
     "end_time": "2019-11-22T20:39:29.773496Z",
     "start_time": "2019-11-22T20:37:36.896527Z"
    }
   },
   "outputs": [
    {
     "name": "stdout",
     "output_type": "stream",
     "text": [
      "L^r error on data space for Forward Problem\n",
      "\n",
      "[[0.05194112 0.01350692 0.0035189  0.00081095 0.00017277]\n",
      " [0.0765559  0.02297857 0.00564043 0.0014609  0.00028286]\n",
      " [0.09346265 0.03183619 0.00723372 0.00205836 0.00037162]\n",
      " [0.10484368 0.03904701 0.00835824 0.00255138 0.00043737]\n",
      " [0.11299713 0.04469492 0.00917825 0.00294367 0.00048629]]\n"
     ]
    }
   ],
   "source": [
    "np.set_printoptions(linewidth=110) \n",
    "print('L^r error on data space for Forward Problem',end='\\n\\n')\n",
    "print(error_r_D)       "
   ]
  },
  {
   "cell_type": "code",
   "execution_count": 15,
   "metadata": {},
   "outputs": [],
   "source": [
    "#### To make it cleaner, create Directory \"images\" to store all the figures ####\n",
    "imagepath = os.path.join(os.getcwd(),\"images\")\n",
    "os.makedirs(imagepath,exist_ok=True)"
   ]
  },
  {
   "cell_type": "markdown",
   "metadata": {},
   "source": [
    "#### Left plot in Figure 2"
   ]
  },
  {
   "cell_type": "code",
   "execution_count": 16,
   "metadata": {},
   "outputs": [
    {
     "data": {
      "image/png": "[encoded data removed]",
      "text/plain": [
       "<Figure size 576x432 with 1 Axes>"
      ]
     },
     "metadata": {
      "needs_background": "light"
     },
     "output_type": "display_data"
    }
   ],
   "source": [
    "###########################################\n",
    "######### The left plot of Fig 2 ##########\n",
    "###########################################\n",
    "fig = plt.figure()\n",
    "plt.xlim([0,6])\n",
    "marker = ['-D', '-o', '-v', '-s', '-.']\n",
    "for i in range(5):\n",
    "    plt.semilogy([1,2,3,4,5],error_r_D[i,:],marker[i],label='r = ' + np.str(i+1))    \n",
    "plt.xlabel('Order of PCE (n)')\n",
    "plt.ylabel('$L^r$'+' Error in Push-Forward on '+'$\\mathcal{D}$')\n",
    "plt.legend()\n",
    "# fig.savefig(\"images/1forward_error_D\")\n",
    "plt.savefig(\"images/Fig2(Left).png\")"
   ]
  },
  {
   "cell_type": "markdown",
   "metadata": {},
   "source": [
    "### Verify Theorem 3.1\n",
    "**Print out Monte Carlo Approximation of $\t\\|\\pi_{\\mathcal{D}}^Q(Q(\\lambda))-\\pi_{\\mathcal{D}}^{Q_n}(Q_n(\\lambda))\\|_{L^2(\\Lambda)} $**"
   ]
  },
  {
   "cell_type": "code",
   "execution_count": 17,
   "metadata": {
    "ExecuteTime": {
     "end_time": "2019-11-22T20:39:52.856750Z",
     "start_time": "2019-11-22T20:39:30.342909Z"
    }
   },
   "outputs": [],
   "source": [
    "##### Generate data for the right plot of Fig 2 #####\n",
    "np.random.seed(123456)       \n",
    "lamsample = np.random.normal(size = N_mc)\n",
    "\n",
    "error_2 = np.zeros(5)\n",
    "for i in range(5):\n",
    "    error_2[i] = (np.mean((np.abs(pfprior_dens(Qexact(lamsample))\\\n",
    "                                  - pfprior_dens_n(i+1,Q(i+1,lamsample))))**2))**(1/2)"
   ]
  },
  {
   "cell_type": "code",
   "execution_count": 18,
   "metadata": {
    "ExecuteTime": {
     "end_time": "2019-11-22T20:39:52.856750Z",
     "start_time": "2019-11-22T20:39:30.342909Z"
    }
   },
   "outputs": [
    {
     "name": "stdout",
     "output_type": "stream",
     "text": [
      "L^2 error on parameter space for Forward Problem\n",
      "\n",
      "[0.1962035  0.10691977 0.02296583 0.00508628 0.00096028]\n"
     ]
    }
   ],
   "source": [
    "np.set_printoptions(linewidth=110)   \n",
    "print('L^2 error on parameter space for Forward Problem',end='\\n\\n')\n",
    "print(error_2)        "
   ]
  },
  {
   "cell_type": "markdown",
   "metadata": {},
   "source": [
    "#### Right plot in Figure 2"
   ]
  },
  {
   "cell_type": "code",
   "execution_count": 19,
   "metadata": {
    "ExecuteTime": {
     "end_time": "2019-11-22T20:39:53.366428Z",
     "start_time": "2019-11-22T20:39:52.858690Z"
    }
   },
   "outputs": [
    {
     "data": {
      "image/png": "[encoded data removed]",
      "text/plain": [
       "<Figure size 576x432 with 1 Axes>"
      ]
     },
     "metadata": {
      "needs_background": "light"
     },
     "output_type": "display_data"
    }
   ],
   "source": [
    "############################################\n",
    "######### The right plot of Fig 2 ##########\n",
    "############################################\n",
    "fig = plt.figure()\n",
    "plt.xlim([0,6])\n",
    "plt.semilogy([1,2,3,4,5],error_2,'-s')#,label='$L^2(\\Lambda)$ error')    \n",
    "plt.xlabel('Order of PCE (n)')\n",
    "plt.ylabel('$L^2$'+' Error in Push-Forward on '+'$\\Lambda$')\n",
    "# fig.savefig(\"images/1forward_error_lam\")\n",
    "plt.savefig(\"images/Fig2(Right).png\")"
   ]
  },
  {
   "cell_type": "markdown",
   "metadata": {},
   "source": [
    "## Inverse Problem\n",
    "\n",
    "Initial guess is $\\lambda\\sim N(0,1^2)$. \n",
    "\n",
    "Observation is $\\pi_{\\mathcal{D}}\\sim N(3,0.5^2)$\n",
    "\n",
    "Verify Result of Theorem 4.2:\n",
    "\n",
    "$Q_n(\\lambda)\\to Q(\\lambda)$ in $L^p(\\Lambda)$, $\\pi_{\\Lambda}^{init}\\in L^p(\\mathcal{D})$. If Assumptions 1, 2 hold, $\\{\\pi_{\\mathcal{D}}^{Q_n}\\}$ are uniformly integrable in $L^p(\\mathcal{D})$, then \n",
    "\\begin{equation}\n",
    "        \\pi_{\\Lambda}^{u,n}(\\lambda) \\to \\pi_{\\Lambda}^{u}(\\lambda) \\text{ in } L^p(\\Lambda) \n",
    "\\end{equation}"
   ]
  },
  {
   "cell_type": "code",
   "execution_count": 20,
   "metadata": {
    "ExecuteTime": {
     "end_time": "2019-11-22T20:39:53.372099Z",
     "start_time": "2019-11-22T20:39:53.368584Z"
    }
   },
   "outputs": [],
   "source": [
    "def pdf_obs(x):\n",
    "    return norm.pdf(x, loc=3, scale=0.5)"
   ]
  },
  {
   "cell_type": "code",
   "execution_count": 29,
   "metadata": {
    "ExecuteTime": {
     "end_time": "2019-11-22T20:39:53.827432Z",
     "start_time": "2019-11-22T20:39:53.373656Z"
    }
   },
   "outputs": [
    {
     "data": {
      "image/png": "[encoded data removed]",
      "text/plain": [
       "<Figure size 576x432 with 1 Axes>"
      ]
     },
     "metadata": {
      "needs_background": "light"
     },
     "output_type": "display_data"
    }
   ],
   "source": [
    "#### Use plot to show the difference between the pushforward of the init and the observed #####\n",
    "fig = plt.figure()\n",
    "xx = np.linspace(-1,8,1000)\n",
    "y = pdf_obs(xx)\n",
    "y_pf = pfprior_dens(xx)\n",
    "plt.plot(xx,y,label=\"$\\pi_{\\mathcal{D}}^{obs}$\")\n",
    "plt.plot(xx,y_pf, label=\"$\\pi_{\\mathcal{D}}^{Q(init)}$\")\n",
    "plt.xlabel(\"$\\mathcal{D}$\")\n",
    "plt.legend();\n",
    "# fig.savefig(\"images/1obs_pushforward\")"
   ]
  },
  {
   "cell_type": "markdown",
   "metadata": {},
   "source": [
    "### Verify Assumption 2"
   ]
  },
  {
   "cell_type": "code",
   "execution_count": 22,
   "metadata": {
    "ExecuteTime": {
     "end_time": "2019-11-22T20:40:07.470833Z",
     "start_time": "2019-11-22T20:39:53.829307Z"
    }
   },
   "outputs": [],
   "source": [
    "def Meanr(n):\n",
    "    pfprior_sample_n = Q(n,initial_sample)\n",
    "    if n==0:\n",
    "        r = pdf_obs(pfprior_sample)/pfprior_dens(pfprior_sample)\n",
    "    else:\n",
    "        r = pdf_obs(pfprior_sample_n)/pfprior_dens_n(n,pfprior_sample_n)\n",
    "    return np.mean(r)\n",
    " \n",
    "def pdf_update(n,x):\n",
    "    if n==0:\n",
    "        r = pdf_obs(pfprior_sample)/pfprior_dens(pfprior_sample)\n",
    "        pdf = kde(initial_sample,weights=r)\n",
    "    else:\n",
    "        pfprior_sample_n = Q(n,initial_sample)\n",
    "        r = pdf_obs(pfprior_sample_n)/pfprior_dens_n(n,pfprior_sample_n)\n",
    "        pdf = kde(initial_sample,weights=r)\n",
    "    return pdf(x)\n",
    "\n",
    "Expect_r = np.zeros(6)\n",
    "for i in range(6):\n",
    "    Expect_r[i] = Meanr(i)"
   ]
  },
  {
   "cell_type": "markdown",
   "metadata": {},
   "source": [
    "#### Table 6"
   ]
  },
  {
   "cell_type": "code",
   "execution_count": 23,
   "metadata": {
    "ExecuteTime": {
     "end_time": "2019-11-22T20:40:07.470833Z",
     "start_time": "2019-11-22T20:39:53.829307Z"
    }
   },
   "outputs": [
    {
     "name": "stdout",
     "output_type": "stream",
     "text": [
      "Table 6\n",
      "Expected ratio for verifying Assumption 2\n",
      "[0.58714658 0.97697376 0.98109416 0.98064304 0.98038583]\n"
     ]
    }
   ],
   "source": [
    "###########################################\n",
    "################ Table 6 ##################\n",
    "###########################################\n",
    "print('Table 6')\n",
    "print('Expected ratio for verifying Assumption 2')\n",
    "print(Expect_r[1:])"
   ]
  },
  {
   "cell_type": "code",
   "execution_count": 24,
   "metadata": {
    "ExecuteTime": {
     "end_time": "2019-11-22T20:40:12.376477Z",
     "start_time": "2019-11-22T20:40:07.473420Z"
    }
   },
   "outputs": [
    {
     "data": {
      "text/plain": [
       "<Figure size 576x432 with 0 Axes>"
      ]
     },
     "metadata": {},
     "output_type": "display_data"
    },
    {
     "data": {
      "application/vnd.jupyter.widget-view+json": {
       "model_id": "b8698ea3eadc406fbc0d029cfb56f23a",
       "version_major": 2,
       "version_minor": 0
      },
      "text/plain": [
       "interactive(children=(IntSlider(value=1, description='n', max=5, min=1), Output()), _dom_classes=('widget-inte…"
      ]
     },
     "metadata": {},
     "output_type": "display_data"
    },
    {
     "data": {
      "text/plain": [
       "<function __main__.plot_update(n)>"
      ]
     },
     "execution_count": 24,
     "metadata": {},
     "output_type": "execute_result"
    }
   ],
   "source": [
    "#### Use plot to show the difference between the initial, updated, approximate updated #####\n",
    "fig=plt.figure()\n",
    "def plot_update(n):\n",
    "    fig.clear()\n",
    "    xx = np.linspace(-5,5,100)\n",
    "    plt.plot(xx, norm.pdf(xx, loc=0, scale=1), label=\"Initial Density\")\n",
    "    plt.plot(xx, pdf_update(0,xx), label=\"$\\pi_{\\Lambda}^u$\")\n",
    "    plt.plot(xx, pdf_update(n,xx), label=\"$\\pi_{\\Lambda}^{u,n}$, n=\"+str(n))\n",
    "    plt.legend()\n",
    "    plt.xlabel(\"$\\Lambda$\")\n",
    "    plt.title('$\\mathbb{E}(r) =$ %3.2f' %(Expect_r[n]));\n",
    "    \n",
    "interact(plot_update, \n",
    "         n = widgets.IntSlider(value=int(1),min=int(1),max=int(5),step=1))"
   ]
  },
  {
   "cell_type": "code",
   "execution_count": 25,
   "metadata": {
    "ExecuteTime": {
     "end_time": "2019-11-22T20:40:24.970955Z",
     "start_time": "2019-11-22T20:40:12.378540Z"
    }
   },
   "outputs": [
    {
     "data": {
      "image/png": "[encoded data removed]",
      "text/plain": [
       "<Figure size 576x432 with 1 Axes>"
      ]
     },
     "metadata": {
      "needs_background": "light"
     },
     "output_type": "display_data"
    }
   ],
   "source": [
    "#### Use plot to show the difference between the observed and the pushforward of the approximate updated pdf #####\n",
    "def update_pushforward(n,x):\n",
    "    pfprior_sample_n = Q(n,initial_sample)\n",
    "    r = pdf_obs(pfprior_sample_n)/pfprior_dens_n(n,pfprior_sample_n)\n",
    "    pdf = kde(pfprior_sample_n,weights=r)\n",
    "    return pdf(x)\n",
    "\n",
    "fig = plt.figure()\n",
    "xx = np.linspace(0,6,100)\n",
    "y = pdf_obs(xx)\n",
    "plt.plot(xx,y,label=\"$\\pi_{\\mathcal{D}}^{obs}$\")\n",
    "for i in range(1,6,1):\n",
    "    y_pf = update_pushforward(i,xx)\n",
    "    plt.plot(xx,y_pf, label=\"n=\"+str(i))\n",
    "plt.xlabel(\"$\\mathcal{D}$\")\n",
    "plt.legend();\n",
    "# fig.savefig(\"images/1obs_updatepushforward\")"
   ]
  },
  {
   "cell_type": "markdown",
   "metadata": {},
   "source": [
    "### Verify Theorem 4.2\n",
    "\n",
    "Print out Monte Carlo Approximation of $\\|\\pi_{\\Lambda}^{u,n}(\\lambda)-\\pi_{\\Lambda}^u(\\lambda)\\|_{L^2(\\Lambda)} $ "
   ]
  },
  {
   "cell_type": "code",
   "execution_count": 26,
   "metadata": {
    "ExecuteTime": {
     "end_time": "2019-11-22T20:41:10.904797Z",
     "start_time": "2019-11-22T20:40:24.973170Z"
    }
   },
   "outputs": [],
   "source": [
    "##### Generate data for Fig 3 #####\n",
    "np.random.seed(123456)     \n",
    "lamsample = np.random.normal(size = N_mc)\n",
    "\n",
    "error_update = np.zeros(5)\n",
    "for i in range(5):\n",
    "    error_update[i] = (np.mean((np.abs(pdf_update(0,lamsample) - pdf_update(i+1,lamsample)))**2))**(1/2)"
   ]
  },
  {
   "cell_type": "code",
   "execution_count": 27,
   "metadata": {
    "ExecuteTime": {
     "end_time": "2019-11-22T20:41:10.904797Z",
     "start_time": "2019-11-22T20:40:24.973170Z"
    }
   },
   "outputs": [
    {
     "name": "stdout",
     "output_type": "stream",
     "text": [
      "L^2 Error for Inverse Problem\n",
      "\n",
      "[0.11973975 0.03226845 0.00655868 0.00194303 0.00036956]\n"
     ]
    }
   ],
   "source": [
    "np.set_printoptions(linewidth=110) \n",
    "print('L^2 Error for Inverse Problem',end='\\n\\n')\n",
    "print(error_update)        "
   ]
  },
  {
   "cell_type": "markdown",
   "metadata": {},
   "source": [
    "#### Figure 3"
   ]
  },
  {
   "cell_type": "code",
   "execution_count": 28,
   "metadata": {
    "ExecuteTime": {
     "end_time": "2019-11-22T21:59:44.732102Z",
     "start_time": "2019-11-22T21:59:44.242750Z"
    }
   },
   "outputs": [
    {
     "data": {
      "image/png": "[encoded data removed]",
      "text/plain": [
       "<Figure size 576x432 with 1 Axes>"
      ]
     },
     "metadata": {
      "needs_background": "light"
     },
     "output_type": "display_data"
    }
   ],
   "source": [
    "###########################################\n",
    "################ Figure 3 #################\n",
    "###########################################\n",
    "fig = plt.figure()\n",
    "plt.xlim([0,6])\n",
    "plt.semilogy([1,2,3,4,5],error_update,'-s')#,label='$L^2(\\Lambda)$ error')    \n",
    "plt.xlabel('Order of PCE (n)')\n",
    "plt.ylabel('$L^2$'+' Error in Update')\n",
    "# fig.savefig(\"images/1inverse_error\")\n",
    "plt.savefig(\"images/Fig3\")"
   ]
  }
 ],
 "metadata": {
  "kernelspec": {
   "display_name": "Python 3",
   "language": "python",
   "name": "python3"
  },
  "language_info": {
   "codemirror_mode": {
    "name": "ipython",
    "version": 3
   },
   "file_extension": ".py",
   "mimetype": "text/x-python",
   "name": "python",
   "nbconvert_exporter": "python",
   "pygments_lexer": "ipython3",
   "version": "3.8.6"
  },
  "latex_envs": {
   "LaTeX_envs_menu_present": true,
   "autoclose": false,
   "autocomplete": true,
   "bibliofile": "biblio.bib",
   "cite_by": "apalike",
   "current_citInitial": 1,
   "eqLabelWithNumbers": true,
   "eqNumInitial": 1,
   "hotkeys": {
    "equation": "Ctrl-E",
    "itemize": "Ctrl-I"
   },
   "labels_anchors": false,
   "latex_user_defs": false,
   "report_style_numbering": false,
   "user_envs_cfg": false
  },
  "toc": {
   "base_numbering": 1,
   "nav_menu": {},
   "number_sections": true,
   "sideBar": true,
   "skip_h1_title": false,
   "title_cell": "Table of Contents",
   "title_sidebar": "Contents",
   "toc_cell": false,
   "toc_position": {},
   "toc_section_display": true,
   "toc_window_display": false
  },
  "varInspector": {
   "cols": {
    "lenName": 16,
    "lenType": 16,
    "lenVar": 40
   },
   "kernels_config": {
    "python": {
     "delete_cmd_postfix": "",
     "delete_cmd_prefix": "del ",
     "library": "var_list.py",
     "varRefreshCmd": "print(var_dic_list())"
    },
    "r": {
     "delete_cmd_postfix": ") ",
     "delete_cmd_prefix": "rm(",
     "library": "var_list.r",
     "varRefreshCmd": "cat(var_dic_list()) "
    }
   },
   "types_to_exclude": [
    "module",
    "function",
    "builtin_function_or_method",
    "instance",
    "_Feature"
   ],
   "window_display": false
  }
 },
 "nbformat": 4,
 "nbformat_minor": 4
}
